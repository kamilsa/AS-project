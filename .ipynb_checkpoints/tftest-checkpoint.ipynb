{
 "cells": [
  {
   "cell_type": "code",
   "execution_count": 2,
   "metadata": {
    "collapsed": true
   },
   "outputs": [],
   "source": [
    "%matplotlib inline"
   ]
  },
  {
   "cell_type": "code",
   "execution_count": 3,
   "metadata": {
    "collapsed": true
   },
   "outputs": [],
   "source": [
    "import matplotlib.pyplot as plt"
   ]
  },
  {
   "cell_type": "code",
   "execution_count": 4,
   "metadata": {
    "collapsed": true
   },
   "outputs": [],
   "source": [
    "import numpy as np\n",
    "import pandas as pd\n",
    "tizen = pd.read_csv(\"bugs-1-tizen.csv\", delimiter=';')\n",
    "# tizen = pd.read_csv(\"bugs-2-cyanogen.csv\", delimiter=';')\n",
    "# tizen = pd.read_csv(\"bugs-3-nemo.csv\", delimiter=';')\n",
    "x = tizen.y.values"
   ]
  },
  {
   "cell_type": "code",
   "execution_count": 227,
   "metadata": {
    "collapsed": false
   },
   "outputs": [
    {
     "data": {
      "text/plain": [
       "array([  0.00000000e+00,   1.78813934e-04,   1.78813934e-04, ...,\n",
       "         9.88769531e-01,   9.88769531e-01,   9.91210938e-01], dtype=float16)"
      ]
     },
     "execution_count": 227,
     "metadata": {},
     "output_type": "execute_result"
    }
   ],
   "source": [
    "x_days = []\n",
    "for i in range(len(x)-1):\n",
    "    x_days.append(x[i+1]-x[i])\n",
    "# x_days = np.array(x_days)\n",
    "x_days = np.array(x,dtype=np.float16)\n",
    "x_days /= np.max(x_days)\n",
    "x_days[:-20]"
   ]
  },
  {
   "cell_type": "code",
   "execution_count": 1,
   "metadata": {
    "collapsed": false
   },
   "outputs": [
    {
     "ename": "NameError",
     "evalue": "name 'x_days' is not defined",
     "output_type": "error",
     "traceback": [
      "\u001b[0;31m---------------------------------------------------------------------------\u001b[0m",
      "\u001b[0;31mNameError\u001b[0m                                 Traceback (most recent call last)",
      "\u001b[0;32m<ipython-input-1-c3814fc65134>\u001b[0m in \u001b[0;36m<module>\u001b[0;34m()\u001b[0m\n\u001b[1;32m      9\u001b[0m \u001b[0mZ\u001b[0m \u001b[0;34m=\u001b[0m \u001b[0;34m[\u001b[0m\u001b[0;34m]\u001b[0m\u001b[0;34m\u001b[0m\u001b[0m\n\u001b[1;32m     10\u001b[0m \u001b[0md\u001b[0m \u001b[0;34m=\u001b[0m \u001b[0;36m30\u001b[0m\u001b[0;34m\u001b[0m\u001b[0m\n\u001b[0;32m---> 11\u001b[0;31m \u001b[0;32mfor\u001b[0m \u001b[0mi\u001b[0m \u001b[0;32min\u001b[0m \u001b[0mrange\u001b[0m\u001b[0;34m(\u001b[0m\u001b[0md\u001b[0m\u001b[0;34m,\u001b[0m\u001b[0mlen\u001b[0m\u001b[0;34m(\u001b[0m\u001b[0mx_days\u001b[0m\u001b[0;34m)\u001b[0m\u001b[0;34m)\u001b[0m\u001b[0;34m:\u001b[0m\u001b[0;34m\u001b[0m\u001b[0m\n\u001b[0m\u001b[1;32m     12\u001b[0m     \u001b[0mZ\u001b[0m\u001b[0;34m.\u001b[0m\u001b[0mappend\u001b[0m\u001b[0;34m(\u001b[0m\u001b[0mx_days\u001b[0m\u001b[0;34m[\u001b[0m\u001b[0mi\u001b[0m\u001b[0;34m-\u001b[0m\u001b[0md\u001b[0m\u001b[0;34m:\u001b[0m\u001b[0mi\u001b[0m\u001b[0;34m]\u001b[0m\u001b[0;34m)\u001b[0m\u001b[0;34m\u001b[0m\u001b[0m\n\u001b[1;32m     13\u001b[0m \u001b[0mZ\u001b[0m \u001b[0;34m=\u001b[0m \u001b[0mnp\u001b[0m\u001b[0;34m.\u001b[0m\u001b[0marray\u001b[0m\u001b[0;34m(\u001b[0m\u001b[0mZ\u001b[0m\u001b[0;34m)\u001b[0m\u001b[0;34m\u001b[0m\u001b[0m\n",
      "\u001b[0;31mNameError\u001b[0m: name 'x_days' is not defined"
     ]
    }
   ],
   "source": [
    "# Z = []\n",
    "# d = 30\n",
    "# for i in range(len(x_days)-d):\n",
    "#     Z.append(x_days[i:i+d+1])\n",
    "# Z = np.array(Z)\n",
    "# Z\n",
    "\n",
    "\n",
    "Z = []\n",
    "d = 30\n",
    "for i in range(d,len(x_days)):\n",
    "    Z.append(x_days[i-d:i])\n",
    "Z = np.array(Z)\n",
    "Z"
   ]
  },
  {
   "cell_type": "code",
   "execution_count": 358,
   "metadata": {
    "collapsed": false
   },
   "outputs": [
    {
     "data": {
      "text/plain": [
       "array([[  0.00000000e+00,   1.78813934e-04,   1.78813934e-04, ...,\n",
       "          2.14576721e-03,   2.32505798e-03,   2.32505798e-03],\n",
       "       [  1.78813934e-04,   1.78813934e-04,   5.36441803e-04, ...,\n",
       "          2.32505798e-03,   2.32505798e-03,   2.32505798e-03],\n",
       "       [  1.78813934e-04,   5.36441803e-04,   7.15255737e-04, ...,\n",
       "          2.32505798e-03,   2.32505798e-03,   2.32505798e-03],\n",
       "       ..., \n",
       "       [  9.86328125e-01,   9.86328125e-01,   9.87304688e-01, ...,\n",
       "          9.98046875e-01,   9.98535156e-01,   9.98535156e-01],\n",
       "       [  9.86328125e-01,   9.87304688e-01,   9.87304688e-01, ...,\n",
       "          9.98535156e-01,   9.98535156e-01,   9.98535156e-01],\n",
       "       [  9.87304688e-01,   9.87304688e-01,   9.87792969e-01, ...,\n",
       "          9.98535156e-01,   9.98535156e-01,   9.98535156e-01]], dtype=float16)"
      ]
     },
     "execution_count": 358,
     "metadata": {},
     "output_type": "execute_result"
    }
   ],
   "source": [
    "X = Z[:,0:d-1]\n",
    "X"
   ]
  },
  {
   "cell_type": "code",
   "execution_count": 359,
   "metadata": {
    "collapsed": false
   },
   "outputs": [],
   "source": [
    "Y = Z[:,-1]"
   ]
  },
  {
   "cell_type": "markdown",
   "metadata": {},
   "source": [
    "# Tensorflow"
   ]
  },
  {
   "cell_type": "code",
   "execution_count": 15,
   "metadata": {
    "collapsed": false
   },
   "outputs": [
    {
     "name": "stderr",
     "output_type": "stream",
     "text": [
      "/home/kamil/miniconda3/envs/venv2/lib/python2.7/site-packages/sklearn/cross_validation.py:44: DeprecationWarning: This module was deprecated in version 0.18 in favor of the model_selection module into which all the refactored classes and functions are moved. Also note that the interface of the new CV iterators are different from that of this module. This module will be removed in 0.20.\n",
      "  \"This module will be removed in 0.20.\", DeprecationWarning)\n"
     ]
    }
   ],
   "source": [
    "import tensorflow as tf\n",
    "from tensorflow.contrib import learn\n",
    "from sklearn import cross_validation\n",
    "from sklearn import preprocessing\n",
    "from sklearn import metrics"
   ]
  },
  {
   "cell_type": "code",
   "execution_count": 361,
   "metadata": {
    "collapsed": false
   },
   "outputs": [
    {
     "name": "stdout",
     "output_type": "stream",
     "text": [
      "('Dimension of Boston test_x = ', (433, 29))\n",
      "('Dimension of test_y = ', (433,))\n",
      "('Dimension of Boston train_x = ', (864, 29))\n",
      "('Dimension of train_y = ', (864,))\n"
     ]
    }
   ],
   "source": [
    "points_to_learn = len(X)*2/3\n",
    "train_x, test_x, train_y, test_y = X[:points_to_learn], X[points_to_learn:],\\\n",
    "    Y[:points_to_learn], Y[points_to_learn:]\n",
    "\n",
    "print( \"Dimension of Boston test_x = \", test_x.shape )\n",
    "print( \"Dimension of test_y = \", test_y.shape )\n",
    "\n",
    "print( \"Dimension of Boston train_x = \", train_x.shape )\n",
    "print( \"Dimension of train_y = \", train_y.shape )\n",
    "\n"
   ]
  },
  {
   "cell_type": "code",
   "execution_count": 362,
   "metadata": {
    "collapsed": false
   },
   "outputs": [],
   "source": [
    "scaler = preprocessing.StandardScaler( )\n",
    "train_x = scaler.fit_transform( train_x )\n",
    "test_x  = scaler.fit_transform( test_x )"
   ]
  },
  {
   "cell_type": "code",
   "execution_count": 363,
   "metadata": {
    "collapsed": false
   },
   "outputs": [
    {
     "name": "stdout",
     "output_type": "stream",
     "text": [
      "('number of features = ', 29)\n"
     ]
    }
   ],
   "source": [
    "numFeatures =  train_x.shape[1] \n",
    "\n",
    "print( \"number of features = \", numFeatures )"
   ]
  },
  {
   "cell_type": "code",
   "execution_count": 364,
   "metadata": {
    "collapsed": false
   },
   "outputs": [],
   "source": [
    "X_train = train_x\n",
    "X_test = test_x\n",
    "y_train = train_y\n",
    "y_test = test_y"
   ]
  },
  {
   "cell_type": "code",
   "execution_count": 365,
   "metadata": {
    "collapsed": true
   },
   "outputs": [],
   "source": [
    "with tf.name_scope(\"IO\"):\n",
    "    inputs = tf.placeholder(tf.float32, [None, numFeatures], name=\"X\")\n",
    "    outputs = tf.placeholder(tf.float32, [None, 1], name=\"Yhat\")"
   ]
  },
  {
   "cell_type": "code",
   "execution_count": 366,
   "metadata": {
    "collapsed": false
   },
   "outputs": [],
   "source": [
    "# Parameters\n",
    "learning_rate = 0.001\n",
    "training_epochs = 20\n",
    "batch_size = 1\n",
    "display_step = 5\n",
    "dropout_rate = 0.2\n",
    "# Network Parameters\n",
    "n_hidden_1 = 100 # 1st layer number of features\n",
    "n_hidden_2 = 150 # 2nd layer number of features\n",
    "n_hidden_3 = 100\n",
    "#n_hidden_4 = 256\n",
    "n_input = X_train.shape[1]\n",
    "total_len = X_train.shape[0]\n",
    "n_classes = 1"
   ]
  },
  {
   "cell_type": "code",
   "execution_count": 367,
   "metadata": {
    "collapsed": false
   },
   "outputs": [
    {
     "data": {
      "text/plain": [
       "(29, 864)"
      ]
     },
     "execution_count": 367,
     "metadata": {},
     "output_type": "execute_result"
    }
   ],
   "source": [
    "n_input, total_len"
   ]
  },
  {
   "cell_type": "code",
   "execution_count": 368,
   "metadata": {
    "collapsed": true
   },
   "outputs": [],
   "source": [
    "# tf Graph input\n",
    "x = tf.placeholder(\"float\", [None, X_train.shape[1]])\n",
    "y = tf.placeholder(\"float\", [None])"
   ]
  },
  {
   "cell_type": "code",
   "execution_count": 375,
   "metadata": {
    "collapsed": true
   },
   "outputs": [],
   "source": [
    "# Create model\n",
    "def multilayer_perceptron(x, weights, biases):\n",
    "    # Hidden layer with RELU activation\n",
    "    layer_1 = tf.add(tf.matmul(x, weights['h1']), biases['b1'])\n",
    "    layer_1 = tf.nn.sigmoid(layer_1)\n",
    "    \n",
    "    \"\"\"\n",
    "    # Hidden layer with RELU activation\n",
    "    layer_2 = tf.add(tf.matmul(layer_1, weights['h2']), biases['b2'])\n",
    "    layer_2 = tf.nn.sigmoid(layer_2)\n",
    "    \n",
    "    # Hidden layer with RELU activation\n",
    "    layer_3 = tf.add(tf.matmul(layer_2, weights['h3']), biases['b3'])\n",
    "    layer_3 = tf.nn.sigmoid(layer_3)\n",
    "    \n",
    "    # Hidden layer with RELU activation\n",
    "    layer_4 = tf.add(tf.matmul(layer_3, weights['h4']), biases['b4'])\n",
    "    layer_4 = tf.nn.relu(layer_4)\n",
    "    \"\"\"\n",
    "\n",
    "    # Output layer with linear activation\n",
    "    out_layer = tf.matmul(layer_1, weights['out']) + biases['out']\n",
    "    return out_layer"
   ]
  },
  {
   "cell_type": "code",
   "execution_count": 376,
   "metadata": {
    "collapsed": true
   },
   "outputs": [],
   "source": [
    "# Store layers weight & bias\n",
    "weights = {\n",
    "    'h1': tf.Variable(tf.random_normal([n_input, n_hidden_1], 0, 0.1)),\n",
    "#     'h2': tf.Variable(tf.random_normal([n_hidden_1, n_hidden_2], 0, 0.1)),\n",
    "#     'h3': tf.Variable(tf.random_normal([n_hidden_2, n_hidden_3], 0, 0.1)),\n",
    "#    'h4': tf.Variable(tf.random_normal([n_hidden_3, n_hidden_4], 0, 0.1)),\n",
    "    'out': tf.Variable(tf.random_normal([n_hidden_1, n_classes], 0, 0.1))\n",
    "}\n",
    "biases = {\n",
    "    'b1': tf.Variable(tf.random_normal([n_hidden_1], 0, 0.1)),\n",
    "#     'b2': tf.Variable(tf.random_normal([n_hidden_2], 0, 0.1)),\n",
    "#     'b3': tf.Variable(tf.random_normal([n_hidden_3], 0, 0.1)),\n",
    "#    'b4': tf.Variable(tf.random_normal([n_hidden_4], 0, 0.1)),\n",
    "    'out': tf.Variable(tf.random_normal([n_classes], 0, 0.1))\n",
    "}"
   ]
  },
  {
   "cell_type": "code",
   "execution_count": 377,
   "metadata": {
    "collapsed": false
   },
   "outputs": [],
   "source": [
    "# Construct model\n",
    "pred = multilayer_perceptron(x, weights, biases)\n",
    "# Define loss and optimizer\n",
    "# cost = tf.reduce_mean(tf.square(pred-y))\n",
    "cost = tf.reduce_mean(tf.square(tf.transpose(pred)-y))\n",
    "optimizer = tf.train.AdamOptimizer(learning_rate=learning_rate).minimize(cost)"
   ]
  },
  {
   "cell_type": "code",
   "execution_count": 378,
   "metadata": {
    "collapsed": true
   },
   "outputs": [],
   "source": [
    "from sklearn.metrics import mean_squared_error"
   ]
  },
  {
   "cell_type": "code",
   "execution_count": 379,
   "metadata": {
    "collapsed": false,
    "scrolled": true
   },
   "outputs": [
    {
     "name": "stdout",
     "output_type": "stream",
     "text": [
      "('Epoch:', '0001', 'cost=', '0.000725557')\n",
      "[*]----------------------------\n",
      "('label value:', 0.80469, 'estimated value:', array([ 0.80380285], dtype=float32))\n",
      "[*]============================\n",
      "('Epoch:', '0006', 'cost=', '0.000036010')\n",
      "[*]----------------------------\n",
      "('label value:', 0.80469, 'estimated value:', array([ 0.80514735], dtype=float32))\n",
      "[*]============================\n",
      "('Epoch:', '0011', 'cost=', '0.000035258')\n",
      "[*]----------------------------\n",
      "('label value:', 0.80469, 'estimated value:', array([ 0.80683839], dtype=float32))\n",
      "[*]============================\n",
      "('Epoch:', '0016', 'cost=', '0.000039429')\n",
      "[*]----------------------------\n",
      "('label value:', 0.80469, 'estimated value:', array([ 0.80686373], dtype=float32))\n",
      "[*]============================\n",
      "Optimization Finished!\n",
      "0.428052\n"
     ]
    }
   ],
   "source": [
    "# Launch the graph\n",
    "with tf.Session() as sess:\n",
    "    sess.run(tf.initialize_all_variables())\n",
    "\n",
    "    # Training cycle\n",
    "    for epoch in range(training_epochs):\n",
    "        avg_cost = 0.\n",
    "        total_batch = int(total_len/batch_size)\n",
    "        # Loop over all batches\n",
    "        for i in range(total_batch-1):\n",
    "            batch_x = X_train[i*batch_size:(i+1)*batch_size]\n",
    "            batch_y = y_train[i*batch_size:(i+1)*batch_size]\n",
    "            # Run optimization op (backprop) and cost op (to get loss value)\n",
    "            _, c, p = sess.run([optimizer, cost, pred], feed_dict={x: batch_x, y: batch_y})\n",
    "            # Compute average loss\n",
    "            avg_cost += c / total_batch\n",
    "\n",
    "        # sample prediction\n",
    "        label_value = batch_y\n",
    "        estimate = p\n",
    "        err = label_value-estimate\n",
    "        #print (\"num batch:\", total_batch)\n",
    "\n",
    "        # Display logs per epoch step\n",
    "        if epoch % display_step == 0:\n",
    "            print (\"Epoch:\", '%04d' % (epoch+1), \"cost=\", \\\n",
    "                \"{:.9f}\".format(avg_cost))\n",
    "            print (\"[*]----------------------------\")\n",
    "            for i in range(min(3,batch_size)):\n",
    "                print (\"label value:\", label_value[i], \\\n",
    "                    \"estimated value:\", estimate[i])\n",
    "            print (\"[*]============================\")\n",
    "\n",
    "    print (\"Optimization Finished!\")\n",
    "\n",
    "    # Test model\n",
    "    correct_prediction = tf.equal(tf.argmax(pred, 1), tf.argmax(y, 1))\n",
    "    # Calculate accuracy\n",
    "#     accuracy = tf.reduce_mean(tf.cast(correct_prediction, \"float\"))\n",
    "    \n",
    "    # Mean squared errorx\n",
    "    test_len = tf.placeholder(\"float\")\n",
    "#     mse = tf.reduce_sum(tf.pow(pred-y, 2))#/(2*Y_test.shape[0])\n",
    "#     sess.run(mse, feed_dict={y:y_test})\n",
    "    y_pred = sess.run(pred, feed_dict={x: X_test})\n",
    "    print(mean_squared_error(y_test ,y_pred))\n",
    "    \n",
    "#     y_pred = sess.run(pred, feed_dict={x:X})\n",
    "    y_pred = sess.run(pred, feed_dict={x: X_train})\n",
    "    for i in range(int(points_to_learn),len(X)):\n",
    "        sample = y_pred[-(d-1):].reshape(1,d-1)\n",
    "        y_pred = np.append(y_pred, sess.run(pred, feed_dict={x:sample}))"
   ]
  },
  {
   "cell_type": "code",
   "execution_count": 380,
   "metadata": {
    "collapsed": false
   },
   "outputs": [
    {
     "data": {
      "text/plain": [
       "<matplotlib.legend.Legend at 0x7f9c75fcd490>"
      ]
     },
     "execution_count": 380,
     "metadata": {},
     "output_type": "execute_result"
    },
    {
     "data": {
      "image/png": "[encoded data removed]",
      "text/plain": [
       "<matplotlib.figure.Figure at 0x7f9c54cdff50>"
      ]
     },
     "metadata": {},
     "output_type": "display_data"
    }
   ],
   "source": [
    "plt.plot(Y, \"b-\", y_pred, \"r-\") # Plot of the data and the fit\n",
    "plt.title(\"Cumulative error curve\")\n",
    "plt.xlabel(\"time\")\n",
    "plt.ylabel(\"error rate\")\n",
    "plt.plot([points_to_learn, points_to_learn], [0, 1], 'k-')\n",
    "plt.legend(('true', 'fit'), loc=2)"
   ]
  },
  {
   "cell_type": "code",
   "execution_count": 300,
   "metadata": {
    "collapsed": false
   },
   "outputs": [
    {
     "data": {
      "text/plain": [
       "array([ 0.79955649,  0.80008131,  0.80056715,  0.8007772 ], dtype=float32)"
      ]
     },
     "execution_count": 300,
     "metadata": {},
     "output_type": "execute_result"
    }
   ],
   "source": [
    "y_pred[:points_to_learn][-4:]"
   ]
  },
  {
   "cell_type": "code",
   "execution_count": 25,
   "metadata": {
    "collapsed": false
   },
   "outputs": [],
   "source": [
    "arr = np.array([x for x in range(100)]).reshape(10,10)"
   ]
  },
  {
   "cell_type": "markdown",
   "metadata": {},
   "source": [
    "# Custom NN"
   ]
  },
  {
   "cell_type": "code",
   "execution_count": 16,
   "metadata": {
    "collapsed": false
   },
   "outputs": [],
   "source": [
    "import numpy as np\n",
    "import pandas as pd\n",
    "tizen = pd.read_csv(\"bugs-1-tizen.csv\", delimiter=';')\n",
    "# tizen = pd.read_csv(\"bugs-2-cyanogen.csv\", delimiter=';')\n",
    "# tizen = pd.read_csv(\"bugs-3-nemo.csv\", delimiter=';')\n",
    "# tizen = pd.read_csv(\"bugs-4-mer.csv\", delimiter=';')\n",
    "x = tizen.y.values"
   ]
  },
  {
   "cell_type": "code",
   "execution_count": 17,
   "metadata": {
    "collapsed": false
   },
   "outputs": [
    {
     "data": {
      "text/plain": [
       "array([ 0.        ,  0.00017889,  0.00017889,  0.00053667,  0.00071556,\n",
       "        0.00071556,  0.00071556,  0.00071556,  0.00071556,  0.00071556,\n",
       "        0.00071556,  0.00071556,  0.00125224,  0.00143113,  0.00178891,\n",
       "        0.00178891,  0.00178891,  0.00178891,  0.00178891,  0.00178891], dtype=float32)"
      ]
     },
     "execution_count": 17,
     "metadata": {},
     "output_type": "execute_result"
    }
   ],
   "source": [
    "x_days = []\n",
    "for i in range(len(x)-1):\n",
    "    x_days.append(x[i+1]-x[i])\n",
    "x_days = np.array(x_days)\n",
    "x_days = np.array(x, dtype=np.float16)/np.max(x)\n",
    "x_days[:20]"
   ]
  },
  {
   "cell_type": "code",
   "execution_count": 18,
   "metadata": {
    "collapsed": true
   },
   "outputs": [],
   "source": [
    "# Z = []\n",
    "# d = 30\n",
    "# for i in range(len(x_days)-d):\n",
    "#     Z.append(x_days[i:i+d+1])\n",
    "# Z = np.array(Z)\n",
    "# Z\n",
    "\n",
    "\n",
    "Z = []\n",
    "d = 31\n",
    "for i in range(d,len(x_days)):\n",
    "    Z.append(x_days[i-d:i])\n",
    "Z = np.array(Z)"
   ]
  },
  {
   "cell_type": "code",
   "execution_count": 19,
   "metadata": {
    "collapsed": true
   },
   "outputs": [],
   "source": [
    "X = Z[:,0:d-1]"
   ]
  },
  {
   "cell_type": "code",
   "execution_count": 20,
   "metadata": {
    "collapsed": true
   },
   "outputs": [],
   "source": [
    "Y = Z[:,-1]"
   ]
  },
  {
   "cell_type": "code",
   "execution_count": 21,
   "metadata": {
    "collapsed": false
   },
   "outputs": [],
   "source": [
    "points_to_learn = 2*len(X)/3\n",
    "X_train, X_test = X[:points_to_learn], X[points_to_learn:]\n",
    "y_train, y_test = Y[:points_to_learn], Y[points_to_learn:]"
   ]
  },
  {
   "cell_type": "code",
   "execution_count": 22,
   "metadata": {
    "collapsed": false
   },
   "outputs": [
    {
     "data": {
      "text/plain": [
       "(432, 30)"
      ]
     },
     "execution_count": 22,
     "metadata": {},
     "output_type": "execute_result"
    }
   ],
   "source": [
    "X_test.shape"
   ]
  },
  {
   "cell_type": "code",
   "execution_count": 23,
   "metadata": {
    "collapsed": false
   },
   "outputs": [],
   "source": [
    "from sklearn.metrics import mean_squared_error"
   ]
  },
  {
   "cell_type": "code",
   "execution_count": 24,
   "metadata": {
    "collapsed": true
   },
   "outputs": [],
   "source": [
    "# Parameters\n",
    "learning_rate = 0.001\n",
    "training_epochs = 20\n",
    "batch_size = 1\n",
    "display_step = 5\n",
    "dropout_rate = 0.2\n",
    "# Network Parameters\n",
    "n_hidden_1 = 150 # 1st layer number of features\n",
    "n_hidden_2 = 150 # 2nd layer number of features\n",
    "n_hidden_3 = 100\n",
    "#n_hidden_4 = 256\n",
    "n_input = X_train.shape[1]\n",
    "total_len = X_train.shape[0]\n",
    "n_classes = 1"
   ]
  },
  {
   "cell_type": "code",
   "execution_count": 25,
   "metadata": {
    "collapsed": false
   },
   "outputs": [],
   "source": [
    "y = tf.placeholder(\"float\", [None], 'y')\n",
    "    \n",
    "x1 = tf.placeholder(\"float\", [None, (d-1)/2], 'x1')\n",
    "x2 = tf.placeholder(\"float\", [None, (d-1)/2], 'x2')\n",
    "weights1 = tf.Variable(tf.random_normal([(d-1)/2, n_hidden_1/2], 0, 0.1), name='weights1')\n",
    "weights2 = tf.Variable(tf.random_normal([(d-1)/2, n_hidden_1/2], 0, 0.1), name='weights2')\n",
    "\n",
    "b1 = tf.Variable(tf.random_normal([n_hidden_1/2], 0, 0.1), name='b1')\n",
    "b2 = tf.Variable(tf.random_normal([n_hidden_1/2], 0, 0.1), name='b2')\n",
    "\n",
    "layer_11 = (tf.add(tf.matmul(x1, weights1),b1))\n",
    "layer_12 = tf.nn.sigmoid(tf.add(tf.matmul(x2, weights2),b2))\n",
    "\n",
    "layer_1 = tf.concat(1, [layer_11, layer_12])\n",
    "#     print(sess.run(layer_11, feed_dict={x1:arr[:,:5]}))\n",
    "\n",
    "weights_2 = tf.Variable(tf.random_normal([n_hidden_1, 1], 0, 0.1), name='weights_2')\n",
    "b_2 = tf.Variable(tf.random_normal([1], 0, 0.1, name='b_2'))\n",
    "\n",
    "out_layer = tf.matmul(layer_1, weights_2) + b_2\n",
    "\n",
    "pred = out_layer\n",
    "cost = tf.reduce_mean(tf.square(tf.transpose(pred)-y))\n",
    "optimizer = tf.train.AdamOptimizer(learning_rate=learning_rate).minimize(cost)"
   ]
  },
  {
   "cell_type": "code",
   "execution_count": 26,
   "metadata": {
    "collapsed": false,
    "scrolled": false
   },
   "outputs": [
    {
     "name": "stdout",
     "output_type": "stream",
     "text": [
      "('Epoch:', '0001', 'cost=', '0.000522048')\n",
      "[*]----------------------------\n",
      "('label value:', 0.80644006, 'estimated value:', array([ 0.80462462], dtype=float32))\n",
      "[*]============================\n",
      "('Epoch:', '0006', 'cost=', '0.000027213')\n",
      "[*]----------------------------\n",
      "('label value:', 0.80644006, 'estimated value:', array([ 0.8039099], dtype=float32))\n",
      "[*]============================\n",
      "('Epoch:', '0011', 'cost=', '0.000022614')\n",
      "[*]----------------------------\n",
      "('label value:', 0.80644006, 'estimated value:', array([ 0.80452448], dtype=float32))\n",
      "[*]============================\n",
      "('Epoch:', '0016', 'cost=', '0.000023617')\n",
      "[*]----------------------------\n",
      "('label value:', 0.80644006, 'estimated value:', array([ 0.8045938], dtype=float32))\n",
      "[*]============================\n",
      "Optimization Finished!\n",
      "2.55438e-05\n"
     ]
    }
   ],
   "source": [
    "with tf.Session() as sess:\n",
    "    sess.run(tf.initialize_all_variables())\n",
    "#     x = tf.placeholder(\"float\", [None, X_train.shape[1]])\n",
    "    \n",
    "    \n",
    "    for epoch in range(training_epochs):\n",
    "        avg_cost = 0.\n",
    "        total_batch = int(total_len/batch_size)\n",
    "        # Loop over all batches\n",
    "        for i in range(total_batch-1):\n",
    "            batch_x = X_train[i*batch_size:(i+1)*batch_size]\n",
    "            batch_y = y_train[i*batch_size:(i+1)*batch_size]\n",
    "            # Run optimization op (backprop) and cost op (to get loss value)\n",
    "            _, c, p = sess.run([optimizer, cost, pred], feed_dict={x1: batch_x[:,:(d-1)/2], x2: batch_x[:,(d-1)/2:], y: batch_y})\n",
    "            # Compute average loss\n",
    "            avg_cost += c / total_batch\n",
    "\n",
    "        # sample prediction\n",
    "        label_value = batch_y\n",
    "        estimate = p\n",
    "        err = label_value-estimate\n",
    "        #print (\"num batch:\", total_batch)\n",
    "\n",
    "        # Display logs per epoch step\n",
    "        if epoch % display_step == 0:\n",
    "            print (\"Epoch:\", '%04d' % (epoch+1), \"cost=\", \\\n",
    "                \"{:.9f}\".format(avg_cost))\n",
    "            print (\"[*]----------------------------\")\n",
    "            for i in range(min(3,batch_size)):\n",
    "                print (\"label value:\", label_value[i], \\\n",
    "                    \"estimated value:\", estimate[i])\n",
    "            print (\"[*]============================\")\n",
    "\n",
    "    print (\"Optimization Finished!\")\n",
    "\n",
    "    # Test model\n",
    "    correct_prediction = tf.equal(tf.argmax(pred, 1), tf.argmax(y, 1))\n",
    "    # Calculate accuracy\n",
    "#     accuracy = tf.reduce_mean(tf.cast(correct_prediction, \"float\"))\n",
    "    \n",
    "    # Mean squared errorx\n",
    "    test_len = tf.placeholder(\"float\")\n",
    "#     mse = tf.reduce_sum(tf.pow(pred-y, 2))#/(2*Y_test.shape[0])\n",
    "#     sess.run(mse, feed_dict={y:y_test})\n",
    "    y_pred = sess.run(pred, feed_dict={x1: X_test[:,:(d-1)/2], x2:X_test[:,(d-1)/2:]})\n",
    "    print(mean_squared_error(y_test ,y_pred))\n",
    "    \n",
    "    y_pred = sess.run(pred, feed_dict={x1: X_train[:,:(d-1)/2], x2: X_train[:,(d-1)/2:]})\n",
    "    for i in range(int(points_to_learn),len(X)):\n",
    "#             y_pred = np.append(y_pred, sess.run(pred, feed_dict={x:y_pred[-(d-1):].reshape(1,d-1)}))\n",
    "        sample = y_pred[-(d-1):].reshape(1,d-1)\n",
    "#         print(i, y_pred[-(d-1):])\n",
    "        y_pred = np.append(y_pred, sess.run(pred, feed_dict={x1:sample[:,:(d-1)/2], x2:sample[:,(d-1)/2:]}))"
   ]
  },
  {
   "cell_type": "code",
   "execution_count": 27,
   "metadata": {
    "collapsed": false
   },
   "outputs": [
    {
     "data": {
      "text/plain": [
       "<matplotlib.legend.Legend at 0x7f87dc3d4190>"
      ]
     },
     "execution_count": 27,
     "metadata": {},
     "output_type": "execute_result"
    },
    {
     "data": {
      "image/png": "[encoded data removed]",
      "text/plain": [
       "<matplotlib.figure.Figure at 0x7f87e0efdfd0>"
      ]
     },
     "metadata": {},
     "output_type": "display_data"
    }
   ],
   "source": [
    "plt.plot(Y, \"b-\", y_pred, \"r-\") # Plot of the data and the fit\n",
    "plt.title(\"Cumulative error curve\")\n",
    "plt.xlabel(\"time\")\n",
    "plt.ylabel(\"error rate\")\n",
    "plt.plot([points_to_learn, points_to_learn], [0, 1], 'k-')\n",
    "plt.legend(('true', 'fit'), loc=2)"
   ]
  },
  {
   "cell_type": "markdown",
   "metadata": {},
   "source": [
    "# single neuron"
   ]
  },
  {
   "cell_type": "code",
   "execution_count": 131,
   "metadata": {
    "collapsed": true
   },
   "outputs": [],
   "source": [
    "import numpy as np\n",
    "import pandas as pd\n",
    "tizen = pd.read_csv(\"bugs-1-tizen.csv\", delimiter=';')\n",
    "# tizen = pd.read_csv(\"bugs-2-cyanogen.csv\", delimiter=';')\n",
    "# tizen = pd.read_csv(\"bugs-3-nemo.csv\", delimiter=';')\n",
    "Y = tizen.y.values\n",
    "Y.dtype = np.float"
   ]
  },
  {
   "cell_type": "code",
   "execution_count": 132,
   "metadata": {
    "collapsed": false
   },
   "outputs": [],
   "source": [
    "X = np.array([x for x in range(len(Y))]).reshape(len(Y),1)\n",
    "Y /= np.max(Y)\n",
    "points_to_learn = 2*len(X)/3\n",
    "X_train, X_test = X[:points_to_learn], X[points_to_learn:]\n",
    "y_train, y_test = Y[:points_to_learn], Y[points_to_learn:]"
   ]
  },
  {
   "cell_type": "code",
   "execution_count": 134,
   "metadata": {
    "collapsed": true
   },
   "outputs": [],
   "source": [
    "# Parameters\n",
    "learning_rate = 0.001\n",
    "training_epochs = 20\n",
    "batch_size = 1\n",
    "display_step = 5\n",
    "dropout_rate = 0.2\n",
    "# Network Parameters\n",
    "n_hidden_1 = 4 # 1st layer number of features\n",
    "n_hidden_2 = 150 # 2nd layer number of features\n",
    "n_hidden_3 = 100\n",
    "#n_hidden_4 = 256\n",
    "n_input = X_train.shape[1]\n",
    "total_len = X_train.shape[0]\n",
    "n_classes = 1"
   ]
  },
  {
   "cell_type": "code",
   "execution_count": 135,
   "metadata": {
    "collapsed": false
   },
   "outputs": [],
   "source": [
    "y = tf.placeholder(\"float\", [None], 'y')\n",
    "    \n",
    "x = tf.placeholder(\"float\", [None, 1], 'x')\n",
    "\n",
    "weights1 = tf.Variable(tf.random_normal([1, 1], 0, 0.1), name='weights1')\n",
    "weights2 = tf.Variable(tf.random_normal([1, 1], 0, 0.1), name='weights2')\n",
    "weights3 = tf.Variable(tf.random_normal([1, 1], 0, 0.1), name='weights3')\n",
    "\n",
    "b1 = tf.Variable(tf.random_normal([1], 0, 0.1), name='b1')\n",
    "b2 = tf.Variable(tf.random_normal([1], 0, 0.1), name='b2')\n",
    "b3 = tf.Variable(tf.random_normal([1], 0, 0.1), name='b3')\n",
    "\n",
    "layer_11 = tf.nn.relu(tf.add(tf.matmul(x, weights1),b1))\n",
    "layer_12 = tf.nn.relu(tf.add(tf.matmul(x, weights2),b2))\n",
    "layer_13 = tf.nn.relu(tf.add(tf.matmul(x, weights3),b3))\n",
    "\n",
    "layer_1 = tf.concat(1, [layer_11, layer_12, layer_13])\n",
    "#     print(sess.run(layer_11, feed_dict={x1:arr[:,:5]}))\n",
    "\n",
    "weights_2 = tf.Variable(tf.random_normal([3, 1], 0, 0.1), name='weights_2')\n",
    "b_2 = tf.Variable(tf.random_normal([1], 0, 0.1, name='b_2'))\n",
    "\n",
    "out_layer = tf.matmul(layer_1, weights_2) + b_2\n",
    "\n",
    "pred = out_layer\n",
    "cost = tf.reduce_mean(tf.square(tf.transpose(pred)-y))\n",
    "optimizer = tf.train.AdamOptimizer(learning_rate=learning_rate).minimize(cost)"
   ]
  },
  {
   "cell_type": "code",
   "execution_count": 136,
   "metadata": {
    "collapsed": false
   },
   "outputs": [
    {
     "name": "stdout",
     "output_type": "stream",
     "text": [
      "('Epoch:', '0001', 'cost=', '0.000508694')\n",
      "[*]----------------------------\n",
      "('label value:', 0.79964221824686943, 'estimated value:', array([ 0.79817772], dtype=float32))\n",
      "[*]============================\n",
      "('Epoch:', '0006', 'cost=', '0.000083509')\n",
      "[*]----------------------------\n",
      "('label value:', 0.79964221824686943, 'estimated value:', array([ 0.79081976], dtype=float32))\n",
      "[*]============================\n",
      "('Epoch:', '0011', 'cost=', '0.000088285')\n",
      "[*]----------------------------\n",
      "('label value:', 0.79964221824686943, 'estimated value:', array([ 0.79314029], dtype=float32))\n",
      "[*]============================\n",
      "('Epoch:', '0016', 'cost=', '0.000087739')\n",
      "[*]----------------------------\n",
      "('label value:', 0.79964221824686943, 'estimated value:', array([ 0.79243827], dtype=float32))\n",
      "[*]============================\n",
      "Optimization Finished!\n",
      "0.0143715852833\n"
     ]
    }
   ],
   "source": [
    "with tf.Session() as sess:\n",
    "    sess.run(tf.initialize_all_variables())\n",
    "#     x = tf.placeholder(\"float\", [None, X_train.shape[1]])\n",
    "    \n",
    "    \n",
    "    for epoch in range(training_epochs):\n",
    "        avg_cost = 0.\n",
    "        total_batch = int(total_len/batch_size)\n",
    "        # Loop over all batches\n",
    "        for i in range(total_batch-1):\n",
    "            batch_x = X_train[i*batch_size:(i+1)*batch_size]\n",
    "            batch_y = y_train[i*batch_size:(i+1)*batch_size]\n",
    "            # Run optimization op (backprop) and cost op (to get loss value)\n",
    "            _, c, p = sess.run([optimizer, cost, pred], feed_dict={x: batch_x, y: batch_y})\n",
    "            # Compute average loss\n",
    "            avg_cost += c / total_batch\n",
    "\n",
    "        # sample prediction\n",
    "        label_value = batch_y\n",
    "        estimate = p\n",
    "        err = label_value-estimate\n",
    "        #print (\"num batch:\", total_batch)\n",
    "\n",
    "        # Display logs per epoch step\n",
    "        if epoch % display_step == 0:\n",
    "            print (\"Epoch:\", '%04d' % (epoch+1), \"cost=\", \\\n",
    "                \"{:.9f}\".format(avg_cost))\n",
    "            print (\"[*]----------------------------\")\n",
    "            for i in range(min(3,batch_size)):\n",
    "                print (\"label value:\", label_value[i], \\\n",
    "                    \"estimated value:\", estimate[i])\n",
    "            print (\"[*]============================\")\n",
    "\n",
    "    print (\"Optimization Finished!\")\n",
    "\n",
    "    # Test model\n",
    "    correct_prediction = tf.equal(tf.argmax(pred, 1), tf.argmax(y, 1))\n",
    "    # Calculate accuracy\n",
    "#     accuracy = tf.reduce_mean(tf.cast(correct_prediction, \"float\"))\n",
    "    \n",
    "    # Mean squared errorx\n",
    "    test_len = tf.placeholder(\"float\")\n",
    "#     mse = tf.reduce_sum(tf.pow(pred-y, 2))#/(2*Y_test.shape[0])\n",
    "#     sess.run(mse, feed_dict={y:y_test})\n",
    "    y_pred = sess.run(pred, feed_dict={x: X_test})\n",
    "    print(mean_squared_error(y_test ,y_pred))\n",
    "    \n",
    "    y_pred = sess.run(pred, feed_dict={x: X})"
   ]
  },
  {
   "cell_type": "code",
   "execution_count": 138,
   "metadata": {
    "collapsed": false
   },
   "outputs": [
    {
     "data": {
      "text/plain": [
       "<matplotlib.legend.Legend at 0x7f9c7d5d0190>"
      ]
     },
     "execution_count": 138,
     "metadata": {},
     "output_type": "execute_result"
    },
    {
     "data": {
      "image/png": "[encoded data removed]",
      "text/plain": [
       "<matplotlib.figure.Figure at 0x7f9c7624aa50>"
      ]
     },
     "metadata": {},
     "output_type": "display_data"
    }
   ],
   "source": [
    "plt.plot(Y, \"b-\", y_pred, \"r-\") # Plot of the data and the fit\n",
    "plt.title(\"Cumulative error curve\")\n",
    "plt.xlabel(\"time\")\n",
    "plt.ylabel(\"error rate\")\n",
    "plt.plot([points_to_learn, points_to_learn], [0, 1], 'k-')\n",
    "plt.legend(('true', 'fit'), loc=2)"
   ]
  },
  {
   "cell_type": "code",
   "execution_count": null,
   "metadata": {
    "collapsed": true
   },
   "outputs": [],
   "source": []
  }
 ],
 "metadata": {
  "anaconda-cloud": {},
  "kernelspec": {
   "display_name": "Python [conda env:venv2]",
   "language": "python",
   "name": "conda-env-venv2-py"
  },
  "language_info": {
   "codemirror_mode": {
    "name": "ipython",
    "version": 2
   },
   "file_extension": ".py",
   "mimetype": "text/x-python",
   "name": "python",
   "nbconvert_exporter": "python",
   "pygments_lexer": "ipython2",
   "version": "2.7.12"
  }
 },
 "nbformat": 4,
 "nbformat_minor": 1
}
