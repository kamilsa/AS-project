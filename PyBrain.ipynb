{
 "cells": [
  {
   "cell_type": "code",
   "execution_count": 1,
   "metadata": {
    "collapsed": true,
    "deletable": true,
    "editable": true
   },
   "outputs": [],
   "source": [
    "%matplotlib inline"
   ]
  },
  {
   "cell_type": "code",
   "execution_count": 2,
   "metadata": {
    "collapsed": true,
    "deletable": true,
    "editable": true
   },
   "outputs": [],
   "source": [
    "import numpy as np\n",
    "import pandas as pd\n",
    "import matplotlib.pyplot as plt"
   ]
  },
  {
   "cell_type": "code",
   "execution_count": 3,
   "metadata": {
    "collapsed": true,
    "deletable": true,
    "editable": true
   },
   "outputs": [],
   "source": [
    "from pybrain.structure import RecurrentNetwork, FeedForwardNetwork\n",
    "from pybrain.structure import FullConnection\n",
    "from pybrain.structure import LinearLayer, SigmoidLayer, LSTMLayer, BiasUnit\n",
    "from pybrain.supervised          import RPropMinusTrainer, BackpropTrainer\n",
    "import pybrain\n",
    "from datasets import generateNoisySines\n",
    "from pybrain.tools.validation    import testOnSequenceData\n",
    "from pybrain.tools.shortcuts     import buildNetwork\n",
    "from pybrain.tools.neuralnets import NNregression"
   ]
  },
  {
   "cell_type": "code",
   "execution_count": 4,
   "metadata": {
    "collapsed": true,
    "deletable": true,
    "editable": true
   },
   "outputs": [],
   "source": [
    "from sklearn import preprocessing\n",
    "from sklearn.metrics import mean_absolute_error, mean_squared_error, r2_score"
   ]
  },
  {
   "cell_type": "markdown",
   "metadata": {
    "deletable": true,
    "editable": true
   },
   "source": [
    "# Utils"
   ]
  },
  {
   "cell_type": "code",
   "execution_count": 5,
   "metadata": {
    "collapsed": true,
    "deletable": true,
    "editable": true
   },
   "outputs": [],
   "source": [
    "def RA(y, yp):\n",
    "    m = len(y)\n",
    "    res = 0\n",
    "    for i in range(m):\n",
    "        if y[i] == 0:\n",
    "            continue\n",
    "        res += np.abs(y[i]-yp[i])/y[i]\n",
    "    return (res / m)[0]\n",
    "def AcFP(real, predicted):\n",
    "    return (np.abs(real - predicted) / real * 100)"
   ]
  },
  {
   "cell_type": "markdown",
   "metadata": {
    "deletable": true,
    "editable": true
   },
   "source": [
    "# Custom layer"
   ]
  },
  {
   "cell_type": "code",
   "execution_count": 6,
   "metadata": {
    "collapsed": true,
    "deletable": true,
    "editable": true
   },
   "outputs": [],
   "source": [
    "from pybrain.structure.modules.neuronlayer import NeuronLayer"
   ]
  },
  {
   "cell_type": "code",
   "execution_count": 7,
   "metadata": {
    "collapsed": true,
    "deletable": true,
    "editable": true
   },
   "outputs": [],
   "source": [
    "def go(x):\n",
    "    return 1-np.exp(-x)\n",
    "def d_go(x):\n",
    "    return np.exp(-x)\n",
    "\n",
    "def yamada(x):\n",
    "    return 1 - np.multiply((1+x),np.exp(-x))\n",
    "def d_yamada(x):\n",
    "    return np.multiply(np.exp(-x),x)\n",
    "\n",
    "def s_shaped(x):\n",
    "    return np.divide(1, 1 + np.exp(-x))\n",
    "def d_s_shaped(x):\n",
    "    return np.divide(np.exp(x), np.square(np.exp(x)+1))\n",
    "\n",
    "def d_gen(x):\n",
    "    return np.multiply(np.exp(-x), x+1) + np.divide(np.exp(-x), np.square(np.exp(-x)+1))\n",
    "\n",
    "def unknown(x):\n",
    "    return np.divide(1-np.exp(-x),1+np.exp(-x))\n",
    "def d_unknown(x):\n",
    "    return np.divide(np.exp(x),np.square(np.exp(x)+1))"
   ]
  },
  {
   "cell_type": "code",
   "execution_count": 8,
   "metadata": {
    "collapsed": true,
    "deletable": true,
    "editable": true
   },
   "outputs": [],
   "source": [
    "class CustomLayer(NeuronLayer):\n",
    "    \"\"\"Layer implementing the sigmoid squashing function.\"\"\"\n",
    "    \n",
    "    def _forwardImplementation(self, inbuf, outbuf):\n",
    "        g = go(inbuf[0])\n",
    "        y = yamada(inbuf[1])\n",
    "        s = s_shaped(inbuf[2])\n",
    "#         u = unknown(inbuf[3])\n",
    "        outbuf[:] = np.hstack([g, y, s])\n",
    "\n",
    "    def _backwardImplementation(self, outerr, inerr, outbuf, inbuf):\n",
    "#         g = d_go(outbuf[0])\n",
    "#         y = d_yamada(outbuf[1])\n",
    "#         s = d_s_shaped(outbuf[2])\n",
    "#         u = d_unknown(outbuf[3])\n",
    "#         inerr[:] = np.hstack([g,y,s,u]) * outerr\n",
    "#         inerr[:] = (d_go(outbuf) + d_yamada(outbuf) + d_s_shaped(outbuf) )*outerr\n",
    "        inerr[:] = d_gen(outbuf) * outerr\n",
    "#         inerr[:] = outbuf * (1 - outbuf) * outerr"
   ]
  },
  {
   "cell_type": "code",
   "execution_count": 9,
   "metadata": {
    "collapsed": true,
    "deletable": true,
    "editable": true
   },
   "outputs": [],
   "source": [
    "# tizen = pd.read_csv(\"bugs-1-tizen.csv\", delimiter=';')\n",
    "# tizen = pd.read_csv(\"bugs-2-cyanogen.csv\", delimiter=';')\n",
    "tizen = pd.read_csv(\"SS1.DAT\", sep = '\\t', names=['x', 'z', 'y'])\n",
    "x = tizen.y.values"
   ]
  },
  {
   "cell_type": "code",
   "execution_count": 10,
   "metadata": {
    "collapsed": false,
    "deletable": true,
    "editable": true
   },
   "outputs": [
    {
     "data": {
      "image/png": "[encoded data removed]",
      "text/plain": [
       "<matplotlib.figure.Figure at 0x7f3be307d110>"
      ]
     },
     "metadata": {},
     "output_type": "display_data"
    }
   ],
   "source": [
    "plt.plot(tizen.x, tizen.y)\n",
    "plt.ylabel('Bugs')\n",
    "plt.xlabel('Days')\n",
    "plt.show()"
   ]
  },
  {
   "cell_type": "code",
   "execution_count": 11,
   "metadata": {
    "collapsed": false,
    "deletable": true,
    "editable": true
   },
   "outputs": [],
   "source": [
    "t = tizen.x.values\n",
    "x = tizen.y.values"
   ]
  },
  {
   "cell_type": "code",
   "execution_count": 12,
   "metadata": {
    "collapsed": false,
    "deletable": true,
    "editable": true
   },
   "outputs": [
    {
     "name": "stderr",
     "output_type": "stream",
     "text": [
      "/home/kamilsa/miniconda3/envs/venv2/lib/python2.7/site-packages/sklearn/utils/validation.py:429: DataConversionWarning: Data with input dtype int64 was converted to float64.\n",
      "  warnings.warn(msg, _DataConversionWarning)\n"
     ]
    }
   ],
   "source": [
    "t = preprocessing.minmax_scale(t)\n",
    "x = preprocessing.minmax_scale(x)\n",
    "X = t\n",
    "Y = x"
   ]
  },
  {
   "cell_type": "code",
   "execution_count": 20,
   "metadata": {
    "collapsed": false,
    "deletable": true,
    "editable": true
   },
   "outputs": [],
   "source": [
    "points_to_learn = 80*len(X)//100\n",
    "X_train, X_test = X[:points_to_learn], X[points_to_learn:]\n",
    "y_train, y_test = Y[:points_to_learn], Y[points_to_learn:]"
   ]
  },
  {
   "cell_type": "code",
   "execution_count": 21,
   "metadata": {
    "collapsed": false,
    "deletable": true,
    "editable": true
   },
   "outputs": [],
   "source": [
    "train_ds = pybrain.datasets.SequentialDataSet(1, 1)\n",
    "for i in range(len(X_train)):\n",
    "    train_ds.addSample(X_train[i],y_train[i])\n",
    "\n",
    "test_ds = pybrain.datasets.SequentialDataSet(1, 1)\n",
    "for i in range(len(X_test)):\n",
    "    test_ds.addSample(X_test[i],y_test[i])"
   ]
  },
  {
   "cell_type": "code",
   "execution_count": 22,
   "metadata": {
    "collapsed": false,
    "deletable": true,
    "editable": true
   },
   "outputs": [],
   "source": [
    "n = RecurrentNetwork()\n",
    "n.addInputModule(LinearLayer(1, name='in'))\n",
    "n.addModule(SigmoidLayer(10, name='hidden1'))\n",
    "# n.addModule(SigmoidLayer(3, name='hidden2'))\n",
    "n.addOutputModule(LinearLayer(1, name='out'))\n",
    "n.addModule(BiasUnit(name='bias1'))\n",
    "# n.addModule(BiasUnit(name='bias2'))\n",
    "n.addModule(BiasUnit(name='bias3'))\n",
    "n.addConnection(FullConnection(n['in'], n['hidden1'], name='c1'))\n",
    "n.addConnection(FullConnection(n['hidden1'], n['out'], name='c2'))\n",
    "# n.addConnection(FullConnection(n['hidden2'], n['out'], name='c3'))\n",
    "n.addConnection(FullConnection(n['bias1'], n['hidden1'], name='c4'))\n",
    "# n.addConnection(FullConnection(n['bias2'], n['hidden2'], name='c5'))\n",
    "n.addConnection(FullConnection(n['bias3'], n['out'], name='c6'))\n",
    "n.addRecurrentConnection(FullConnection(n['hidden1'], n['hidden1'], name='c7'))\n",
    "n.sortModules()"
   ]
  },
  {
   "cell_type": "code",
   "execution_count": 23,
   "metadata": {
    "collapsed": true,
    "deletable": true,
    "editable": true
   },
   "outputs": [],
   "source": [
    "trainer = RPropMinusTrainer( n, dataset=train_ds, verbose=True, learningrate=0.1 )\n",
    "# trainer = BackpropTrainer(n, dataset=train_ds, verbose=True, learningrate=0.01)\n",
    "count = 0"
   ]
  },
  {
   "cell_type": "code",
   "execution_count": 24,
   "metadata": {
    "collapsed": false,
    "deletable": true,
    "editable": true
   },
   "outputs": [
    {
     "name": "stdout",
     "output_type": "stream",
     "text": [
      "Epoch 1 epoch      0  total error       2.5183   avg weight        1.0396\n",
      "Epoch 2 epoch      1  total error       0.4296   avg weight         1.042\n",
      "Epoch 3 epoch      2  total error     0.042749   avg weight        1.0526\n",
      "Epoch 4 epoch      3  total error      0.52637   avg weight        1.0584\n",
      "Epoch 5 epoch      4  total error      0.12646   avg weight         1.058\n",
      "Epoch 6 epoch      5  total error     0.031126   avg weight        1.0718\n",
      "Epoch 7 epoch      6  total error      0.17277   avg weight        1.0951\n",
      "Epoch 8 epoch      7  total error     0.048565   avg weight        1.0965\n",
      "Epoch 9 epoch      8  total error     0.030756   avg weight        1.0859\n",
      "Epoch 10 epoch      9  total error     0.063024   avg weight        1.0856\n",
      "Epoch 11 epoch     10  total error     0.024825   avg weight         1.086\n",
      "Epoch 12 epoch     11  total error     0.026273   avg weight        1.0843\n",
      "Epoch 13 epoch     12  total error     0.026769   avg weight        1.0944\n",
      "Epoch 14 epoch     13  total error     0.017541   avg weight        1.0984\n",
      "Epoch 15 epoch     14  total error     0.014476   avg weight        1.1097\n",
      "Epoch 16 epoch     15  total error     0.018901   avg weight        1.1234\n",
      "Epoch 17 epoch     16  total error     0.012913   avg weight        1.1173\n",
      "Epoch 18 epoch     17  total error    0.0093787   avg weight        1.1317\n",
      "Epoch 19 epoch     18  total error     0.010717   avg weight        1.1505\n",
      "Epoch 20 epoch     19  total error    0.0071793   avg weight        1.1612\n"
     ]
    }
   ],
   "source": [
    "from __future__ import print_function\n",
    "for i in range(20):\n",
    "    count += 1\n",
    "    print(\"Epoch\",count, end=' ')\n",
    "    trainer.trainEpochs( 1 )"
   ]
  },
  {
   "cell_type": "code",
   "execution_count": 18,
   "metadata": {
    "collapsed": false,
    "deletable": true,
    "editable": true
   },
   "outputs": [],
   "source": [
    "y_pred = []\n",
    "n.reset()\n",
    "for x in np.hstack([X_train, X_test]):\n",
    "    y_pred.append(n.activate([x]))"
   ]
  },
  {
   "cell_type": "code",
   "execution_count": 19,
   "metadata": {
    "collapsed": false,
    "deletable": true,
    "editable": true
   },
   "outputs": [
    {
     "data": {
      "image/png": "[encoded data removed]",
      "text/plain": [
       "<matplotlib.figure.Figure at 0x7f3be0667190>"
      ]
     },
     "metadata": {},
     "output_type": "display_data"
    }
   ],
   "source": [
    "plt.plot(Y, \"b-\", y_pred, \"r-\") # Plot of the data and the fit\n",
    "plt.title(\"Cumulative error curve\")\n",
    "plt.xlabel(\"time\")\n",
    "plt.ylabel(\"error rate\")\n",
    "plt.plot([points_to_learn, points_to_learn], [0, 1], 'k-')\n",
    "plt.legend(('true', 'fit'), loc=2)\n",
    "plt.show()"
   ]
  },
  {
   "cell_type": "code",
   "execution_count": 631,
   "metadata": {
    "collapsed": false,
    "deletable": true,
    "editable": true
   },
   "outputs": [
    {
     "data": {
      "text/plain": [
       "(0.036534291219701205, 0.19406410393598456, array([ 47.7258929]))"
      ]
     },
     "execution_count": 631,
     "metadata": {},
     "output_type": "execute_result"
    }
   ],
   "source": [
    "mean_absolute_error(y_train, y_pred[:points_to_learn]), \\\n",
    "        mean_absolute_error(y_test, y_pred[points_to_learn:]), \\\n",
    "        AcFP(y_test[-1], y_pred[-1])"
   ]
  },
  {
   "cell_type": "code",
   "execution_count": 639,
   "metadata": {
    "collapsed": false,
    "deletable": true,
    "editable": true
   },
   "outputs": [],
   "source": [
    "def ffn(X,Y, part):\n",
    "    points_to_learn = part*len(X)/100\n",
    "    X_train, X_test = X[:points_to_learn], X[points_to_learn:]\n",
    "    y_train, y_test = Y[:points_to_learn], Y[points_to_learn:]\n",
    "\n",
    "    train_ds = pybrain.datasets.SequentialDataSet(1, 1)\n",
    "    for i in range(len(X_train)):\n",
    "        train_ds.addSample(X_train[i],y_train[i])\n",
    "\n",
    "    test_ds = pybrain.datasets.SequentialDataSet(1, 1)\n",
    "    for i in range(len(X_test)):\n",
    "        test_ds.addSample(X_test[i],y_test[i])\n",
    "\n",
    "    n = RecurrentNetwork()\n",
    "    n.addInputModule(LinearLayer(1, name='in'))\n",
    "    n.addModule(LSTMLayer(10, name='hidden1'))\n",
    "    # n.addModule(SigmoidLayer(3, name='hidden2'))\n",
    "    n.addOutputModule(LinearLayer(1, name='out'))\n",
    "    n.addModule(BiasUnit(name='bias1'))\n",
    "    # n.addModule(BiasUnit(name='bias2'))\n",
    "    n.addModule(BiasUnit(name='bias3'))\n",
    "    n.addConnection(FullConnection(n['in'], n['hidden1'], name='c1'))\n",
    "    n.addConnection(FullConnection(n['hidden1'], n['out'], name='c2'))\n",
    "    # n.addConnection(FullConnection(n['hidden2'], n['out'], name='c3'))\n",
    "    n.addConnection(FullConnection(n['bias1'], n['hidden1'], name='c4'))\n",
    "    # n.addConnection(FullConnection(n['bias2'], n['hidden2'], name='c5'))\n",
    "    n.addConnection(FullConnection(n['bias3'], n['out'], name='c6'))\n",
    "#     n.addRecurrentConnection(FullConnection(n['hidden1'], n['hidden1'], name='c7'))\n",
    "    n.sortModules()\n",
    "\n",
    "    trainer = RPropMinusTrainer( n, dataset=train_ds, verbose=False, learningrate=0.01 )\n",
    "    # trainer = BackpropTrainer(n, dataset=train_ds, verbose=True, learningrate=0.01)\n",
    "    count = 0\n",
    "\n",
    "#     print('training started')\n",
    "    for i in range(120):\n",
    "        count += 1\n",
    "#         print(\"Epoch\",count, end=' ')\n",
    "        trainer.trainEpochs( 1 )\n",
    "\n",
    "    y_pred = []\n",
    "    n.reset()\n",
    "    for x in np.hstack([X_train, X_test]):\n",
    "        y_pred.append(n.activate([x]))\n",
    "\n",
    "    return mean_absolute_error(y_train, y_pred[:points_to_learn]), \\\n",
    "        mean_absolute_error(y_test, y_pred[points_to_learn:]), \\\n",
    "        AcFP(y_test[-1], y_pred[-1])[0]"
   ]
  },
  {
   "cell_type": "code",
   "execution_count": 641,
   "metadata": {
    "collapsed": false,
    "deletable": true,
    "editable": true
   },
   "outputs": [
    {
     "name": "stdout",
     "output_type": "stream",
     "text": [
      "10 (0.0064360052612059092, 0.2730900951651708, 48.871350476748951)\n",
      "20 (0.015049780057192846, 0.3882524831617824, 56.253901152954896)\n",
      "30 (0.0083642620040933532, 0.26575097692953953, 57.647628565799124)\n",
      "40 (0.014384538477798133, 0.25525085946693721, 46.696802634755755)\n",
      "50 (0.0085521938622244217, 0.13641179365795353, 23.435934072468235)\n",
      "60 (0.01511458960579362, 0.051482450215771691, 9.8420157748046133)\n",
      "70 (0.018281036433502755, 0.014416727219987826, 0.66268797419968273)\n",
      "80 (0.020396780205013221, 0.03808086167088761, 2.3074842183355537)\n",
      "90 (0.019827880603184616, 0.033093231837962596, 3.0596366479304526)\n"
     ]
    }
   ],
   "source": [
    "for i in range(10,100, 10):\n",
    "    print(i, ffn(X,Y,i) )"
   ]
  },
  {
   "cell_type": "markdown",
   "metadata": {
    "deletable": true,
    "editable": true
   },
   "source": [
    "# Custom layer recurrent"
   ]
  },
  {
   "cell_type": "code",
   "execution_count": 64,
   "metadata": {
    "collapsed": true,
    "deletable": true,
    "editable": true
   },
   "outputs": [],
   "source": [
    "tizen = pd.read_csv(\"bugs-1-tizen.csv\", delimiter=';')\n",
    "# tizen = pd.read_csv(\"bugs-2-cyanogen.csv\", delimiter=';')\n",
    "# tizen = pd.read_csv(\"SS1.DAT\", sep = '\\t', names=['x', 'z', 'y'])\n",
    "x = tizen.y.values"
   ]
  },
  {
   "cell_type": "code",
   "execution_count": 65,
   "metadata": {
    "collapsed": true,
    "deletable": true,
    "editable": true
   },
   "outputs": [],
   "source": [
    "t = tizen.x.values\n",
    "x = tizen.y.values"
   ]
  },
  {
   "cell_type": "code",
   "execution_count": 66,
   "metadata": {
    "collapsed": false,
    "deletable": true,
    "editable": true
   },
   "outputs": [],
   "source": [
    "t = preprocessing.minmax_scale(t)\n",
    "x = preprocessing.minmax_scale(x)\n",
    "X = t[np.arange(0, len(t), 10)]\n",
    "Y = x[np.arange(0, len(t), 10)]"
   ]
  },
  {
   "cell_type": "code",
   "execution_count": 67,
   "metadata": {
    "collapsed": true,
    "deletable": true,
    "editable": true
   },
   "outputs": [],
   "source": [
    "points_to_learn = 80*len(X)/100\n",
    "X_train, X_test = X[:points_to_learn], X[points_to_learn:]\n",
    "y_train, y_test = Y[:points_to_learn], Y[points_to_learn:]"
   ]
  },
  {
   "cell_type": "code",
   "execution_count": 68,
   "metadata": {
    "collapsed": true,
    "deletable": true,
    "editable": true
   },
   "outputs": [],
   "source": [
    "train_ds = pybrain.datasets.SequentialDataSet(1, 1)\n",
    "for i in range(len(X_train)):\n",
    "    train_ds.addSample(X_train[i],y_train[i])\n",
    "\n",
    "test_ds = pybrain.datasets.SequentialDataSet(1, 1)\n",
    "for i in range(len(X_test)):\n",
    "    test_ds.addSample(X_test[i],y_test[i])"
   ]
  },
  {
   "cell_type": "code",
   "execution_count": 78,
   "metadata": {
    "collapsed": true,
    "deletable": true,
    "editable": true
   },
   "outputs": [],
   "source": [
    "n = RecurrentNetwork()\n",
    "n.addInputModule(LinearLayer(1, name='in'))\n",
    "n.addModule(CustomLayer(3, name='hidden1'))\n",
    "# n.addModule(SigmoidLayer(3, name='hidden2'))\n",
    "n.addOutputModule(LinearLayer(1, name='out'))\n",
    "# n.addModule(BiasUnit(name='bias1'))\n",
    "# n.addModule(BiasUnit(name='bias2'))\n",
    "n.addModule(BiasUnit(name='bias3'))\n",
    "n.addConnection(FullConnection(n['in'], n['hidden1'], name='c1'))\n",
    "n.addConnection(FullConnection(n['hidden1'], n['out'], name='c2'))\n",
    "# n.addConnection(FullConnection(n['hidden2'], n['out'], name='c3'))\n",
    "# n.addConnection(FullConnection(n['bias1'], n['hidden1'], name='c4'))\n",
    "# n.addConnection(FullConnection(n['bias2'], n['hidden2'], name='c5'))\n",
    "n.addConnection(FullConnection(n['bias3'], n['out'], name='c6'))\n",
    "n.addRecurrentConnection(FullConnection(n['hidden1'], n['hidden1'], name='c7'))\n",
    "n.sortModules()"
   ]
  },
  {
   "cell_type": "code",
   "execution_count": 79,
   "metadata": {
    "collapsed": false,
    "deletable": true,
    "editable": true
   },
   "outputs": [],
   "source": [
    "trainer = RPropMinusTrainer( n, dataset=train_ds, verbose=True , learningrate=0.1)\n",
    "# trainer = BackpropTrainer(n, dataset=train_ds, verbose=True, learningrate=0.01)\n",
    "count = 0"
   ]
  },
  {
   "cell_type": "code",
   "execution_count": 80,
   "metadata": {
    "collapsed": false,
    "deletable": true,
    "editable": true,
    "scrolled": true
   },
   "outputs": [
    {
     "name": "stdout",
     "output_type": "stream",
     "text": [
      "Epoch 1 epoch      0  total error          nan   avg weight       0.82216\n",
      "Epoch 2 epoch      1  total error          nan   avg weight           nan\n",
      "Epoch 3 epoch      2  total error          nan   avg weight           nan\n",
      "Epoch 4 "
     ]
    },
    {
     "name": "stderr",
     "output_type": "stream",
     "text": [
      "/home/kamilsa/miniconda3/envs/venv2/lib/python2.7/site-packages/ipykernel/__main__.py:12: RuntimeWarning: overflow encountered in exp\n",
      "/home/kamilsa/miniconda3/envs/venv2/lib/python2.7/site-packages/ipykernel/__main__.py:2: RuntimeWarning: overflow encountered in exp\n",
      "  from ipykernel import kernelapp as app\n",
      "/home/kamilsa/miniconda3/envs/venv2/lib/python2.7/site-packages/ipykernel/__main__.py:7: RuntimeWarning: overflow encountered in exp\n",
      "/home/kamilsa/miniconda3/envs/venv2/lib/python2.7/site-packages/ipykernel/__main__.py:17: RuntimeWarning: invalid value encountered in divide\n",
      "/home/kamilsa/miniconda3/envs/venv2/lib/python2.7/site-packages/numpy/core/numeric.py:1093: RuntimeWarning: invalid value encountered in multiply\n",
      "  return multiply(a.ravel()[:, newaxis], b.ravel()[newaxis,:], out)\n",
      "/home/kamilsa/miniconda3/envs/venv2/lib/python2.7/site-packages/ipykernel/__main__.py:17: RuntimeWarning: invalid value encountered in multiply\n",
      "/home/kamilsa/miniconda3/envs/venv2/lib/python2.7/site-packages/pybrain/supervised/trainers/backprop.py:97: RuntimeWarning: overflow encountered in square\n",
      "  error += 0.5 * sum(outerr ** 2)\n",
      "/home/kamilsa/miniconda3/envs/venv2/lib/python2.7/site-packages/ipykernel/__main__.py:17: RuntimeWarning: overflow encountered in exp\n",
      "/home/kamilsa/miniconda3/envs/venv2/lib/python2.7/site-packages/ipykernel/__main__.py:17: RuntimeWarning: overflow encountered in square\n"
     ]
    },
    {
     "name": "stdout",
     "output_type": "stream",
     "text": [
      "epoch      3  total error          nan   avg weight           nan\n",
      "Epoch 5 epoch      4  total error          nan   avg weight           nan\n",
      "Epoch 6 epoch      5  total error          nan   avg weight           nan\n",
      "Epoch 7 epoch      6  total error          nan   avg weight           nan\n",
      "Epoch 8 epoch      7  total error          nan   avg weight           nan\n",
      "Epoch 9 epoch      8  total error          nan   avg weight           nan\n",
      "Epoch 10 epoch      9  total error          nan   avg weight           nan\n",
      "Epoch 11 epoch     10  total error          nan   avg weight           nan\n",
      "Epoch 12 epoch     11  total error          nan   avg weight           nan\n",
      "Epoch 13 epoch     12  total error          nan   avg weight           nan\n",
      "Epoch 14 epoch     13  total error          nan   avg weight           nan\n",
      "Epoch 15 epoch     14  total error          nan   avg weight           nan\n",
      "Epoch 16 epoch     15  total error          nan   avg weight           nan\n",
      "Epoch 17 epoch     16  total error          nan   avg weight           nan\n",
      "Epoch 18 epoch     17  total error          nan   avg weight           nan\n",
      "Epoch 19 epoch     18  total error          nan   avg weight           nan\n",
      "Epoch 20 epoch     19  total error          nan   avg weight           nan\n",
      "Epoch 21 epoch     20  total error          nan   avg weight           nan\n",
      "Epoch 22 epoch     21  total error          nan   avg weight           nan\n",
      "Epoch 23 epoch     22  total error          nan   avg weight           nan\n",
      "Epoch 24 epoch     23  total error          nan   avg weight           nan\n",
      "Epoch 25 epoch     24  total error          nan   avg weight           nan\n",
      "Epoch 26 epoch     25  total error          nan   avg weight           nan\n",
      "Epoch 27 epoch     26  total error          nan   avg weight           nan\n",
      "Epoch 28 epoch     27  total error          nan   avg weight           nan\n",
      "Epoch 29 epoch     28  total error          nan   avg weight           nan\n",
      "Epoch 30 epoch     29  total error          nan   avg weight           nan\n",
      "Epoch 31 epoch     30  total error          nan   avg weight           nan\n",
      "Epoch 32 epoch     31  total error          nan   avg weight           nan\n",
      "Epoch 33 epoch     32  total error          nan   avg weight           nan\n",
      "Epoch 34 epoch     33  total error          nan   avg weight           nan\n",
      "Epoch 35 epoch     34  total error          nan   avg weight           nan\n",
      "Epoch 36 epoch     35  total error          nan   avg weight           nan\n",
      "Epoch 37 epoch     36  total error          nan   avg weight           nan\n",
      "Epoch 38 epoch     37  total error          nan   avg weight           nan\n",
      "Epoch 39 epoch     38  total error          nan   avg weight           nan\n",
      "Epoch 40 epoch     39  total error          nan   avg weight           nan\n",
      "Epoch 41 epoch     40  total error          nan   avg weight           nan\n",
      "Epoch 42 epoch     41  total error          nan   avg weight           nan\n",
      "Epoch 43 epoch     42  total error          nan   avg weight           nan\n",
      "Epoch 44 epoch     43  total error          nan   avg weight           nan\n",
      "Epoch 45 epoch     44  total error          nan   avg weight           nan\n",
      "Epoch 46 epoch     45  total error          nan   avg weight           nan\n",
      "Epoch 47 epoch     46  total error          nan   avg weight           nan\n",
      "Epoch 48 epoch     47  total error          nan   avg weight           nan\n",
      "Epoch 49 epoch     48  total error          nan   avg weight           nan\n",
      "Epoch 50 epoch     49  total error          nan   avg weight           nan\n",
      "Epoch 51 epoch     50  total error          nan   avg weight           nan\n",
      "Epoch 52 epoch     51  total error          nan   avg weight           nan\n",
      "Epoch 53 epoch     52  total error          nan   avg weight           nan\n",
      "Epoch 54 epoch     53  total error          nan   avg weight           nan\n",
      "Epoch 55 epoch     54  total error          nan   avg weight           nan\n",
      "Epoch 56 epoch     55  total error          nan   avg weight           nan\n",
      "Epoch 57 "
     ]
    },
    {
     "ename": "KeyboardInterrupt",
     "evalue": "",
     "output_type": "error",
     "traceback": [
      "\u001b[0;31m---------------------------------------------------------------------------\u001b[0m",
      "\u001b[0;31mKeyboardInterrupt\u001b[0m                         Traceback (most recent call last)",
      "\u001b[0;32m<ipython-input-80-3d5c2b8692fc>\u001b[0m in \u001b[0;36m<module>\u001b[0;34m()\u001b[0m\n\u001b[1;32m      4\u001b[0m     \u001b[0mn\u001b[0m\u001b[0;34m.\u001b[0m\u001b[0mreset\u001b[0m\u001b[0;34m(\u001b[0m\u001b[0;34m)\u001b[0m\u001b[0;34m\u001b[0m\u001b[0m\n\u001b[1;32m      5\u001b[0m     \u001b[0;32mprint\u001b[0m\u001b[0;34m(\u001b[0m\u001b[0;34m\"Epoch\"\u001b[0m\u001b[0;34m,\u001b[0m\u001b[0mcount\u001b[0m\u001b[0;34m,\u001b[0m \u001b[0mend\u001b[0m\u001b[0;34m=\u001b[0m\u001b[0;34m' '\u001b[0m\u001b[0;34m)\u001b[0m\u001b[0;34m\u001b[0m\u001b[0m\n\u001b[0;32m----> 6\u001b[0;31m     \u001b[0mtrainer\u001b[0m\u001b[0;34m.\u001b[0m\u001b[0mtrainEpochs\u001b[0m\u001b[0;34m(\u001b[0m \u001b[0;36m1\u001b[0m \u001b[0;34m)\u001b[0m\u001b[0;34m\u001b[0m\u001b[0m\n\u001b[0m",
      "\u001b[0;32m/home/kamilsa/miniconda3/envs/venv2/lib/python2.7/site-packages/pybrain/supervised/trainers/trainer.pyc\u001b[0m in \u001b[0;36mtrainEpochs\u001b[0;34m(self, epochs, *args, **kwargs)\u001b[0m\n\u001b[1;32m     35\u001b[0m         Additional arguments are passed on to the train method.\"\"\"\n\u001b[1;32m     36\u001b[0m         \u001b[0;32mfor\u001b[0m \u001b[0mdummy\u001b[0m \u001b[0;32min\u001b[0m \u001b[0mrange\u001b[0m\u001b[0;34m(\u001b[0m\u001b[0mepochs\u001b[0m\u001b[0;34m)\u001b[0m\u001b[0;34m:\u001b[0m\u001b[0;34m\u001b[0m\u001b[0m\n\u001b[0;32m---> 37\u001b[0;31m             \u001b[0mself\u001b[0m\u001b[0;34m.\u001b[0m\u001b[0mtrain\u001b[0m\u001b[0;34m(\u001b[0m\u001b[0;34m*\u001b[0m\u001b[0margs\u001b[0m\u001b[0;34m,\u001b[0m \u001b[0;34m**\u001b[0m\u001b[0mkwargs\u001b[0m\u001b[0;34m)\u001b[0m\u001b[0;34m\u001b[0m\u001b[0m\n\u001b[0m\u001b[1;32m     38\u001b[0m \u001b[0;34m\u001b[0m\u001b[0m\n\u001b[1;32m     39\u001b[0m     \u001b[0;32mdef\u001b[0m \u001b[0mtrain\u001b[0m\u001b[0;34m(\u001b[0m\u001b[0mself\u001b[0m\u001b[0;34m)\u001b[0m\u001b[0;34m:\u001b[0m\u001b[0;34m\u001b[0m\u001b[0m\n",
      "\u001b[0;32m/home/kamilsa/miniconda3/envs/venv2/lib/python2.7/site-packages/pybrain/supervised/trainers/rprop.pyc\u001b[0m in \u001b[0;36mtrain\u001b[0;34m(self)\u001b[0m\n\u001b[1;32m     40\u001b[0m         \u001b[0mponderation\u001b[0m \u001b[0;34m=\u001b[0m \u001b[0;36m0\u001b[0m\u001b[0;34m\u001b[0m\u001b[0m\n\u001b[1;32m     41\u001b[0m         \u001b[0;32mfor\u001b[0m \u001b[0mseq\u001b[0m \u001b[0;32min\u001b[0m \u001b[0mself\u001b[0m\u001b[0;34m.\u001b[0m\u001b[0mds\u001b[0m\u001b[0;34m.\u001b[0m\u001b[0m_provideSequences\u001b[0m\u001b[0;34m(\u001b[0m\u001b[0;34m)\u001b[0m\u001b[0;34m:\u001b[0m\u001b[0;34m\u001b[0m\u001b[0m\n\u001b[0;32m---> 42\u001b[0;31m             \u001b[0me\u001b[0m\u001b[0;34m,\u001b[0m \u001b[0mp\u001b[0m \u001b[0;34m=\u001b[0m \u001b[0mself\u001b[0m\u001b[0;34m.\u001b[0m\u001b[0m_calcDerivs\u001b[0m\u001b[0;34m(\u001b[0m\u001b[0mseq\u001b[0m\u001b[0;34m)\u001b[0m\u001b[0;34m\u001b[0m\u001b[0m\n\u001b[0m\u001b[1;32m     43\u001b[0m             \u001b[0merrors\u001b[0m \u001b[0;34m+=\u001b[0m \u001b[0me\u001b[0m\u001b[0;34m\u001b[0m\u001b[0m\n\u001b[1;32m     44\u001b[0m             \u001b[0mponderation\u001b[0m \u001b[0;34m+=\u001b[0m \u001b[0mp\u001b[0m\u001b[0;34m\u001b[0m\u001b[0m\n",
      "\u001b[0;32m/home/kamilsa/miniconda3/envs/venv2/lib/python2.7/site-packages/pybrain/supervised/trainers/backprop.pyc\u001b[0m in \u001b[0;36m_calcDerivs\u001b[0;34m(self, seq)\u001b[0m\n\u001b[1;32m    100\u001b[0m                 \u001b[0;31m# know why that is, but somehow the __str__ method of the\u001b[0m\u001b[0;34m\u001b[0m\u001b[0;34m\u001b[0m\u001b[0m\n\u001b[1;32m    101\u001b[0m                 \u001b[0;31m# ndarray class fixes something,\u001b[0m\u001b[0;34m\u001b[0m\u001b[0;34m\u001b[0m\u001b[0m\n\u001b[0;32m--> 102\u001b[0;31m                 \u001b[0mstr\u001b[0m\u001b[0;34m(\u001b[0m\u001b[0mouterr\u001b[0m\u001b[0;34m)\u001b[0m\u001b[0;34m\u001b[0m\u001b[0m\n\u001b[0m\u001b[1;32m    103\u001b[0m                 \u001b[0mself\u001b[0m\u001b[0;34m.\u001b[0m\u001b[0mmodule\u001b[0m\u001b[0;34m.\u001b[0m\u001b[0mbackActivate\u001b[0m\u001b[0;34m(\u001b[0m\u001b[0mouterr\u001b[0m\u001b[0;34m)\u001b[0m\u001b[0;34m\u001b[0m\u001b[0m\n\u001b[1;32m    104\u001b[0m \u001b[0;34m\u001b[0m\u001b[0m\n",
      "\u001b[0;32m/home/kamilsa/miniconda3/envs/venv2/lib/python2.7/site-packages/numpy/core/numeric.pyc\u001b[0m in \u001b[0;36marray_str\u001b[0;34m(a, max_line_width, precision, suppress_small)\u001b[0m\n\u001b[1;32m   1867\u001b[0m \u001b[0;34m\u001b[0m\u001b[0m\n\u001b[1;32m   1868\u001b[0m     \"\"\"\n\u001b[0;32m-> 1869\u001b[0;31m     \u001b[0;32mreturn\u001b[0m \u001b[0marray2string\u001b[0m\u001b[0;34m(\u001b[0m\u001b[0ma\u001b[0m\u001b[0;34m,\u001b[0m \u001b[0mmax_line_width\u001b[0m\u001b[0;34m,\u001b[0m \u001b[0mprecision\u001b[0m\u001b[0;34m,\u001b[0m \u001b[0msuppress_small\u001b[0m\u001b[0;34m,\u001b[0m \u001b[0;34m' '\u001b[0m\u001b[0;34m,\u001b[0m \u001b[0;34m\"\"\u001b[0m\u001b[0;34m,\u001b[0m \u001b[0mstr\u001b[0m\u001b[0;34m)\u001b[0m\u001b[0;34m\u001b[0m\u001b[0m\n\u001b[0m\u001b[1;32m   1870\u001b[0m \u001b[0;34m\u001b[0m\u001b[0m\n\u001b[1;32m   1871\u001b[0m \u001b[0;32mdef\u001b[0m \u001b[0mset_string_function\u001b[0m\u001b[0;34m(\u001b[0m\u001b[0mf\u001b[0m\u001b[0;34m,\u001b[0m \u001b[0mrepr\u001b[0m\u001b[0;34m=\u001b[0m\u001b[0mTrue\u001b[0m\u001b[0;34m)\u001b[0m\u001b[0;34m:\u001b[0m\u001b[0;34m\u001b[0m\u001b[0m\n",
      "\u001b[0;32m/home/kamilsa/miniconda3/envs/venv2/lib/python2.7/site-packages/numpy/core/arrayprint.pyc\u001b[0m in \u001b[0;36marray2string\u001b[0;34m(a, max_line_width, precision, suppress_small, separator, prefix, style, formatter)\u001b[0m\n\u001b[1;32m    445\u001b[0m     \u001b[0;32melse\u001b[0m\u001b[0;34m:\u001b[0m\u001b[0;34m\u001b[0m\u001b[0m\n\u001b[1;32m    446\u001b[0m         lst = _array2string(a, max_line_width, precision, suppress_small,\n\u001b[0;32m--> 447\u001b[0;31m                             separator, prefix, formatter=formatter)\n\u001b[0m\u001b[1;32m    448\u001b[0m     \u001b[0;32mreturn\u001b[0m \u001b[0mlst\u001b[0m\u001b[0;34m\u001b[0m\u001b[0m\n\u001b[1;32m    449\u001b[0m \u001b[0;34m\u001b[0m\u001b[0m\n",
      "\u001b[0;32m/home/kamilsa/miniconda3/envs/venv2/lib/python2.7/site-packages/numpy/core/arrayprint.pyc\u001b[0m in \u001b[0;36m_array2string\u001b[0;34m(a, max_line_width, precision, suppress_small, separator, prefix, formatter)\u001b[0m\n\u001b[1;32m    323\u001b[0m     lst = _formatArray(a, format_function, len(a.shape), max_line_width,\n\u001b[1;32m    324\u001b[0m                        \u001b[0mnext_line_prefix\u001b[0m\u001b[0;34m,\u001b[0m \u001b[0mseparator\u001b[0m\u001b[0;34m,\u001b[0m\u001b[0;34m\u001b[0m\u001b[0m\n\u001b[0;32m--> 325\u001b[0;31m                        _summaryEdgeItems, summary_insert)[:-1]\n\u001b[0m\u001b[1;32m    326\u001b[0m     \u001b[0;32mreturn\u001b[0m \u001b[0mlst\u001b[0m\u001b[0;34m\u001b[0m\u001b[0m\n\u001b[1;32m    327\u001b[0m \u001b[0;34m\u001b[0m\u001b[0m\n",
      "\u001b[0;32m/home/kamilsa/miniconda3/envs/venv2/lib/python2.7/site-packages/numpy/core/arrayprint.pyc\u001b[0m in \u001b[0;36m_formatArray\u001b[0;34m(a, format_function, rank, max_line_len, next_line_prefix, separator, edge_items, summary_insert)\u001b[0m\n\u001b[1;32m    494\u001b[0m             \u001b[0ms\u001b[0m\u001b[0;34m,\u001b[0m \u001b[0mline\u001b[0m \u001b[0;34m=\u001b[0m \u001b[0m_extendLine\u001b[0m\u001b[0;34m(\u001b[0m\u001b[0ms\u001b[0m\u001b[0;34m,\u001b[0m \u001b[0mline\u001b[0m\u001b[0;34m,\u001b[0m \u001b[0mword\u001b[0m\u001b[0;34m,\u001b[0m \u001b[0mmax_line_len\u001b[0m\u001b[0;34m,\u001b[0m \u001b[0mnext_line_prefix\u001b[0m\u001b[0;34m)\u001b[0m\u001b[0;34m\u001b[0m\u001b[0m\n\u001b[1;32m    495\u001b[0m \u001b[0;34m\u001b[0m\u001b[0m\n\u001b[0;32m--> 496\u001b[0;31m         \u001b[0mword\u001b[0m \u001b[0;34m=\u001b[0m \u001b[0mformat_function\u001b[0m\u001b[0;34m(\u001b[0m\u001b[0ma\u001b[0m\u001b[0;34m[\u001b[0m\u001b[0;34m-\u001b[0m\u001b[0;36m1\u001b[0m\u001b[0;34m]\u001b[0m\u001b[0;34m)\u001b[0m\u001b[0;34m\u001b[0m\u001b[0m\n\u001b[0m\u001b[1;32m    497\u001b[0m         \u001b[0ms\u001b[0m\u001b[0;34m,\u001b[0m \u001b[0mline\u001b[0m \u001b[0;34m=\u001b[0m \u001b[0m_extendLine\u001b[0m\u001b[0;34m(\u001b[0m\u001b[0ms\u001b[0m\u001b[0;34m,\u001b[0m \u001b[0mline\u001b[0m\u001b[0;34m,\u001b[0m \u001b[0mword\u001b[0m\u001b[0;34m,\u001b[0m \u001b[0mmax_line_len\u001b[0m\u001b[0;34m,\u001b[0m \u001b[0mnext_line_prefix\u001b[0m\u001b[0;34m)\u001b[0m\u001b[0;34m\u001b[0m\u001b[0m\n\u001b[1;32m    498\u001b[0m         \u001b[0ms\u001b[0m \u001b[0;34m+=\u001b[0m \u001b[0mline\u001b[0m \u001b[0;34m+\u001b[0m \u001b[0;34m\"]\\n\"\u001b[0m\u001b[0;34m\u001b[0m\u001b[0m\n",
      "\u001b[0;32m/home/kamilsa/miniconda3/envs/venv2/lib/python2.7/site-packages/numpy/core/arrayprint.pyc\u001b[0m in \u001b[0;36m__call__\u001b[0;34m(self, x, strip_zeros)\u001b[0m\n\u001b[1;32m    608\u001b[0m                         \u001b[0;32mreturn\u001b[0m \u001b[0mself\u001b[0m\u001b[0;34m.\u001b[0m\u001b[0mspecial_fmt\u001b[0m \u001b[0;34m%\u001b[0m \u001b[0;34m(\u001b[0m\u001b[0m_inf_str\u001b[0m\u001b[0;34m,\u001b[0m\u001b[0;34m)\u001b[0m\u001b[0;34m\u001b[0m\u001b[0m\n\u001b[1;32m    609\u001b[0m                 \u001b[0;32melse\u001b[0m\u001b[0;34m:\u001b[0m\u001b[0;34m\u001b[0m\u001b[0m\n\u001b[0;32m--> 610\u001b[0;31m                     \u001b[0;32mreturn\u001b[0m \u001b[0mself\u001b[0m\u001b[0;34m.\u001b[0m\u001b[0mspecial_fmt\u001b[0m \u001b[0;34m%\u001b[0m \u001b[0;34m(\u001b[0m\u001b[0;34m'-'\u001b[0m \u001b[0;34m+\u001b[0m \u001b[0m_inf_str\u001b[0m\u001b[0;34m,\u001b[0m\u001b[0;34m)\u001b[0m\u001b[0;34m\u001b[0m\u001b[0m\n\u001b[0m\u001b[1;32m    611\u001b[0m \u001b[0;34m\u001b[0m\u001b[0m\n\u001b[1;32m    612\u001b[0m         \u001b[0ms\u001b[0m \u001b[0;34m=\u001b[0m \u001b[0mself\u001b[0m\u001b[0;34m.\u001b[0m\u001b[0mformat\u001b[0m \u001b[0;34m%\u001b[0m \u001b[0mx\u001b[0m\u001b[0;34m\u001b[0m\u001b[0m\n",
      "\u001b[0;32m/home/kamilsa/miniconda3/envs/venv2/lib/python2.7/site-packages/numpy/core/numeric.pyc\u001b[0m in \u001b[0;36m__exit__\u001b[0;34m(self, *exc_info)\u001b[0m\n\u001b[1;32m   2971\u001b[0m \u001b[0;34m\u001b[0m\u001b[0m\n\u001b[1;32m   2972\u001b[0m     \u001b[0;32mdef\u001b[0m \u001b[0m__exit__\u001b[0m\u001b[0;34m(\u001b[0m\u001b[0mself\u001b[0m\u001b[0;34m,\u001b[0m \u001b[0;34m*\u001b[0m\u001b[0mexc_info\u001b[0m\u001b[0;34m)\u001b[0m\u001b[0;34m:\u001b[0m\u001b[0;34m\u001b[0m\u001b[0m\n\u001b[0;32m-> 2973\u001b[0;31m         \u001b[0mseterr\u001b[0m\u001b[0;34m(\u001b[0m\u001b[0;34m**\u001b[0m\u001b[0mself\u001b[0m\u001b[0;34m.\u001b[0m\u001b[0moldstate\u001b[0m\u001b[0;34m)\u001b[0m\u001b[0;34m\u001b[0m\u001b[0m\n\u001b[0m\u001b[1;32m   2974\u001b[0m         \u001b[0;32mif\u001b[0m \u001b[0mself\u001b[0m\u001b[0;34m.\u001b[0m\u001b[0mcall\u001b[0m \u001b[0;32mis\u001b[0m \u001b[0;32mnot\u001b[0m \u001b[0m_Unspecified\u001b[0m\u001b[0;34m:\u001b[0m\u001b[0;34m\u001b[0m\u001b[0m\n\u001b[1;32m   2975\u001b[0m             \u001b[0mseterrcall\u001b[0m\u001b[0;34m(\u001b[0m\u001b[0mself\u001b[0m\u001b[0;34m.\u001b[0m\u001b[0moldcall\u001b[0m\u001b[0;34m)\u001b[0m\u001b[0;34m\u001b[0m\u001b[0m\n",
      "\u001b[0;32m/home/kamilsa/miniconda3/envs/venv2/lib/python2.7/site-packages/numpy/core/numeric.pyc\u001b[0m in \u001b[0;36mseterr\u001b[0;34m(all, divide, over, under, invalid)\u001b[0m\n\u001b[1;32m   2652\u001b[0m     \"\"\"\n\u001b[1;32m   2653\u001b[0m \u001b[0;34m\u001b[0m\u001b[0m\n\u001b[0;32m-> 2654\u001b[0;31m     \u001b[0mpyvals\u001b[0m \u001b[0;34m=\u001b[0m \u001b[0mumath\u001b[0m\u001b[0;34m.\u001b[0m\u001b[0mgeterrobj\u001b[0m\u001b[0;34m(\u001b[0m\u001b[0;34m)\u001b[0m\u001b[0;34m\u001b[0m\u001b[0m\n\u001b[0m\u001b[1;32m   2655\u001b[0m     \u001b[0mold\u001b[0m \u001b[0;34m=\u001b[0m \u001b[0mgeterr\u001b[0m\u001b[0;34m(\u001b[0m\u001b[0;34m)\u001b[0m\u001b[0;34m\u001b[0m\u001b[0m\n\u001b[1;32m   2656\u001b[0m \u001b[0;34m\u001b[0m\u001b[0m\n",
      "\u001b[0;31mKeyboardInterrupt\u001b[0m: "
     ]
    }
   ],
   "source": [
    "from __future__ import print_function\n",
    "for i in range(120):\n",
    "    count += 1\n",
    "    n.reset()\n",
    "    print(\"Epoch\",count, end=' ')\n",
    "    trainer.trainEpochs( 1 )"
   ]
  },
  {
   "cell_type": "code",
   "execution_count": 62,
   "metadata": {
    "collapsed": true,
    "deletable": true,
    "editable": true
   },
   "outputs": [],
   "source": [
    "y_pred = []\n",
    "n.reset()\n",
    "for x in np.hstack([X_train, X_test]):\n",
    "    y_pred.append(n.activate([x]))"
   ]
  },
  {
   "cell_type": "code",
   "execution_count": 63,
   "metadata": {
    "collapsed": false,
    "deletable": true,
    "editable": true
   },
   "outputs": [
    {
     "data": {
      "image/png": "[encoded data removed]",
      "text/plain": [
       "<matplotlib.figure.Figure at 0x7f3be037fb10>"
      ]
     },
     "metadata": {},
     "output_type": "display_data"
    }
   ],
   "source": [
    "plt.plot(Y, \"b-\", y_pred, \"r-\") # Plot of the data and the fit\n",
    "plt.title(\"Cumulative error curve\")\n",
    "plt.xlabel(\"time\")\n",
    "plt.ylabel(\"error rate\")\n",
    "plt.plot([points_to_learn, points_to_learn], [0, 1], 'k-')\n",
    "plt.legend(('true', 'fit'), loc=2)\n",
    "plt.show()"
   ]
  },
  {
   "cell_type": "code",
   "execution_count": 55,
   "metadata": {
    "collapsed": false,
    "deletable": true,
    "editable": true
   },
   "outputs": [
    {
     "data": {
      "text/plain": [
       "(0.022432716423313837, 0.048491092964889994, 11.647492984348567)"
      ]
     },
     "execution_count": 55,
     "metadata": {},
     "output_type": "execute_result"
    }
   ],
   "source": [
    "mean_absolute_error(y_train, y_pred[:points_to_learn]), \\\n",
    "        mean_absolute_error(y_test, y_pred[points_to_learn:]), \\\n",
    "        AcFP(y_test[-1], y_pred[-1])[0]"
   ]
  },
  {
   "cell_type": "markdown",
   "metadata": {
    "collapsed": true,
    "deletable": true,
    "editable": true
   },
   "source": [
    "# leastsq"
   ]
  },
  {
   "cell_type": "code",
   "execution_count": 82,
   "metadata": {
    "collapsed": true,
    "deletable": true,
    "editable": true
   },
   "outputs": [],
   "source": [
    "from scipy import optimize"
   ]
  },
  {
   "cell_type": "code",
   "execution_count": 257,
   "metadata": {
    "collapsed": false,
    "deletable": true,
    "editable": true
   },
   "outputs": [],
   "source": [
    "# tizen = pd.read_csv(\"bugs-1-tizen.csv\", delimiter=';')\n",
    "# tizen = pd.read_csv(\"bugs-2-cyanogen.csv\", delimiter=';')\n",
    "tizen = pd.read_csv(\"SS1.DAT\", sep = '\\t', names=['x', 'z', 'y'])\n",
    "x = tizen.y.values\n",
    "\n",
    "t = tizen.x.values\n",
    "x = tizen.y.values\n",
    "\n",
    "t = preprocessing.minmax_scale(t, (0.1, 0.9))\n",
    "x = preprocessing.minmax_scale(x, (0.1, 0.9))\n",
    "X = t#[np.arange(0, len(t), 10)]\n",
    "Y = x#[np.arange(0, len(t), 10)]"
   ]
  },
  {
   "cell_type": "code",
   "execution_count": 258,
   "metadata": {
    "collapsed": true,
    "deletable": true,
    "editable": true
   },
   "outputs": [],
   "source": [
    "points_to_learn = 80*len(X)/100\n",
    "X_train, X_test = X[:points_to_learn], X[points_to_learn:]\n",
    "y_train, y_test = Y[:points_to_learn], Y[points_to_learn:]"
   ]
  },
  {
   "cell_type": "code",
   "execution_count": 259,
   "metadata": {
    "collapsed": true,
    "deletable": true,
    "editable": true
   },
   "outputs": [],
   "source": [
    "n = RecurrentNetwork()\n",
    "n.addInputModule(LinearLayer(1, name='in'))\n",
    "n.addModule(CustomLayer(3, name='hidden1'))\n",
    "# n.addModule(SigmoidLayer(3, name='hidden2'))\n",
    "n.addOutputModule(LinearLayer(1, name='out'))\n",
    "# n.addModule(BiasUnit(name='bias1'))\n",
    "# n.addModule(BiasUnit(name='bias2'))\n",
    "# n.addModule(BiasUnit(name='bias3'))\n",
    "n.addConnection(FullConnection(n['in'], n['hidden1'], name='c1'))\n",
    "n.addConnection(FullConnection(n['hidden1'], n['out'], name='c2'))\n",
    "# n.addConnection(FullConnection(n['hidden2'], n['out'], name='c3'))\n",
    "# n.addConnection(FullConnection(n['bias1'], n['hidden1'], name='c4'))\n",
    "# n.addConnection(FullConnection(n['bias2'], n['hidden2'], name='c5'))\n",
    "# n.addConnection(FullConnection(n['bias3'], n['out'], name='c6'))\n",
    "n.addRecurrentConnection(FullConnection(n['hidden1'], n['hidden1'], name='c7'))\n",
    "n.sortModules()"
   ]
  },
  {
   "cell_type": "code",
   "execution_count": 260,
   "metadata": {
    "collapsed": false,
    "deletable": true,
    "editable": true
   },
   "outputs": [],
   "source": [
    "def nn_fit(n, params, x):\n",
    "    n._setParameters(params)\n",
    "    n.reset()\n",
    "    res = []\n",
    "#     print(x)\n",
    "    for val in x:\n",
    "#         print(val)\n",
    "        res.append(n.activate([val]))\n",
    "    return np.hstack(res)\n",
    "def nn_err(params):\n",
    "    res = mean_squared_error(nn_fit(n, params, X_train), y_train)\n",
    "#     res = np.square(1-r2_score(nn_fit(n, params, X_train), y_train))\n",
    "    return res"
   ]
  },
  {
   "cell_type": "code",
   "execution_count": 261,
   "metadata": {
    "collapsed": false,
    "deletable": true,
    "editable": true
   },
   "outputs": [
    {
     "data": {
      "text/plain": [
       "64"
      ]
     },
     "execution_count": 261,
     "metadata": {},
     "output_type": "execute_result"
    }
   ],
   "source": [
    "points_to_learn"
   ]
  },
  {
   "cell_type": "code",
   "execution_count": 262,
   "metadata": {
    "collapsed": true
   },
   "outputs": [],
   "source": [
    "# Fit the first set\n",
    "# fitfunc = lambda p, x: p[0]* (1- np.exp(-p[1]*x)) # G-O concave\n",
    "# fitfunc = lambda p, x: p[0]*(1 - (1 + p[1]*x) * np.exp(-p[1]*x)) # G-O s shaped\n",
    "# fitfunc = lambda p, x: p[0] * (1 - (1 + p[1] * (x**p[2])) * np.exp(-p[1]*(x**p[2]))) # Weibull\n",
    "# fitfunc = lambda p, x: p[0]/(1+p[1]*np.exp(-p[2]*x)) # logistic\n",
    "fitfunc = lambda p, x: nn_fit(n, p, x)\n",
    "errfunc = lambda p, x, y: (fitfunc(p, x) - y)**2 # Distance to the target function"
   ]
  },
  {
   "cell_type": "code",
   "execution_count": 201,
   "metadata": {
    "collapsed": false,
    "deletable": true,
    "editable": true,
    "scrolled": true
   },
   "outputs": [
    {
     "name": "stdout",
     "output_type": "stream",
     "text": [
      "15 15\n"
     ]
    },
    {
     "name": "stderr",
     "output_type": "stream",
     "text": [
      "/home/kamilsa/miniconda3/envs/venv2/lib/python2.7/site-packages/ipykernel/__main__.py:7: RuntimeWarning: overflow encountered in exp\n",
      "/home/kamilsa/miniconda3/envs/venv2/lib/python2.7/site-packages/ipykernel/__main__.py:12: RuntimeWarning: overflow encountered in exp\n",
      "/home/kamilsa/miniconda3/envs/venv2/lib/python2.7/site-packages/ipykernel/__main__.py:2: RuntimeWarning: overflow encountered in exp\n",
      "  from ipykernel import kernelapp as app\n"
     ]
    },
    {
     "ename": "KeyboardInterrupt",
     "evalue": "",
     "output_type": "error",
     "traceback": [
      "\u001b[0;31m---------------------------------------------------------------------------\u001b[0m",
      "\u001b[0;31mKeyboardInterrupt\u001b[0m                         Traceback (most recent call last)",
      "\u001b[0;32m<ipython-input-201-552572c94cc9>\u001b[0m in \u001b[0;36m<module>\u001b[0;34m()\u001b[0m\n\u001b[1;32m      5\u001b[0m \u001b[0;31m# points_to_learn = len(X_train)\u001b[0m\u001b[0;34m\u001b[0m\u001b[0;34m\u001b[0m\u001b[0m\n\u001b[1;32m      6\u001b[0m \u001b[0;32mprint\u001b[0m\u001b[0;34m(\u001b[0m\u001b[0mlen\u001b[0m\u001b[0;34m(\u001b[0m\u001b[0mp0\u001b[0m\u001b[0;34m)\u001b[0m\u001b[0;34m,\u001b[0m \u001b[0mlen\u001b[0m\u001b[0;34m(\u001b[0m\u001b[0mn\u001b[0m\u001b[0;34m.\u001b[0m\u001b[0mparams\u001b[0m\u001b[0;34m)\u001b[0m\u001b[0;34m)\u001b[0m\u001b[0;34m\u001b[0m\u001b[0m\n\u001b[0;32m----> 7\u001b[0;31m \u001b[0mp1\u001b[0m\u001b[0;34m,\u001b[0m \u001b[0msuccess\u001b[0m \u001b[0;34m=\u001b[0m \u001b[0moptimize\u001b[0m\u001b[0;34m.\u001b[0m\u001b[0mleastsq\u001b[0m\u001b[0;34m(\u001b[0m\u001b[0merrfunc\u001b[0m\u001b[0;34m,\u001b[0m \u001b[0mp0\u001b[0m\u001b[0;34m[\u001b[0m\u001b[0;34m:\u001b[0m\u001b[0;34m]\u001b[0m\u001b[0;34m,\u001b[0m \u001b[0margs\u001b[0m\u001b[0;34m=\u001b[0m\u001b[0;34m(\u001b[0m\u001b[0mX_train\u001b[0m\u001b[0;34m,\u001b[0m \u001b[0my_train\u001b[0m\u001b[0;34m)\u001b[0m\u001b[0;34m)\u001b[0m\u001b[0;34m\u001b[0m\u001b[0m\n\u001b[0m\u001b[1;32m      8\u001b[0m \u001b[0;31m# p1 = [1.0, 0.002]\u001b[0m\u001b[0;34m\u001b[0m\u001b[0;34m\u001b[0m\u001b[0m\n\u001b[1;32m      9\u001b[0m \u001b[0;31m# noized_tizen = noize_bags(tizen,std = 1000)\u001b[0m\u001b[0;34m\u001b[0m\u001b[0;34m\u001b[0m\u001b[0m\n",
      "\u001b[0;32m/home/kamilsa/miniconda3/envs/venv2/lib/python2.7/site-packages/scipy/optimize/minpack.pyc\u001b[0m in \u001b[0;36mleastsq\u001b[0;34m(func, x0, args, Dfun, full_output, col_deriv, ftol, xtol, gtol, maxfev, epsfcn, factor, diag)\u001b[0m\n\u001b[1;32m    385\u001b[0m             \u001b[0mmaxfev\u001b[0m \u001b[0;34m=\u001b[0m \u001b[0;36m200\u001b[0m\u001b[0;34m*\u001b[0m\u001b[0;34m(\u001b[0m\u001b[0mn\u001b[0m \u001b[0;34m+\u001b[0m \u001b[0;36m1\u001b[0m\u001b[0;34m)\u001b[0m\u001b[0;34m\u001b[0m\u001b[0m\n\u001b[1;32m    386\u001b[0m         retval = _minpack._lmdif(func, x0, args, full_output, ftol, xtol,\n\u001b[0;32m--> 387\u001b[0;31m                                  gtol, maxfev, epsfcn, factor, diag)\n\u001b[0m\u001b[1;32m    388\u001b[0m     \u001b[0;32melse\u001b[0m\u001b[0;34m:\u001b[0m\u001b[0;34m\u001b[0m\u001b[0m\n\u001b[1;32m    389\u001b[0m         \u001b[0;32mif\u001b[0m \u001b[0mcol_deriv\u001b[0m\u001b[0;34m:\u001b[0m\u001b[0;34m\u001b[0m\u001b[0m\n",
      "\u001b[0;32m<ipython-input-199-11e3eb1532d8>\u001b[0m in \u001b[0;36m<lambda>\u001b[0;34m(p, x, y)\u001b[0m\n\u001b[1;32m      5\u001b[0m \u001b[0;31m# fitfunc = lambda p, x: p[0]/(1+p[1]*np.exp(-p[2]*x)) # logistic\u001b[0m\u001b[0;34m\u001b[0m\u001b[0;34m\u001b[0m\u001b[0m\n\u001b[1;32m      6\u001b[0m \u001b[0mfitfunc\u001b[0m \u001b[0;34m=\u001b[0m \u001b[0;32mlambda\u001b[0m \u001b[0mp\u001b[0m\u001b[0;34m,\u001b[0m \u001b[0mx\u001b[0m\u001b[0;34m:\u001b[0m \u001b[0mnn_fit\u001b[0m\u001b[0;34m(\u001b[0m\u001b[0mn\u001b[0m\u001b[0;34m,\u001b[0m \u001b[0mp\u001b[0m\u001b[0;34m,\u001b[0m \u001b[0mx\u001b[0m\u001b[0;34m)\u001b[0m\u001b[0;34m\u001b[0m\u001b[0m\n\u001b[0;32m----> 7\u001b[0;31m \u001b[0merrfunc\u001b[0m \u001b[0;34m=\u001b[0m \u001b[0;32mlambda\u001b[0m \u001b[0mp\u001b[0m\u001b[0;34m,\u001b[0m \u001b[0mx\u001b[0m\u001b[0;34m,\u001b[0m \u001b[0my\u001b[0m\u001b[0;34m:\u001b[0m \u001b[0;34m(\u001b[0m\u001b[0mfitfunc\u001b[0m\u001b[0;34m(\u001b[0m\u001b[0mp\u001b[0m\u001b[0;34m,\u001b[0m \u001b[0mx\u001b[0m\u001b[0;34m)\u001b[0m \u001b[0;34m-\u001b[0m \u001b[0my\u001b[0m\u001b[0;34m)\u001b[0m\u001b[0;34m**\u001b[0m\u001b[0;36m2\u001b[0m \u001b[0;31m# Distance to the target function\u001b[0m\u001b[0;34m\u001b[0m\u001b[0m\n\u001b[0m",
      "\u001b[0;32m<ipython-input-199-11e3eb1532d8>\u001b[0m in \u001b[0;36m<lambda>\u001b[0;34m(p, x)\u001b[0m\n\u001b[1;32m      4\u001b[0m \u001b[0;31m# fitfunc = lambda p, x: p[0] * (1 - (1 + p[1] * (x**p[2])) * np.exp(-p[1]*(x**p[2]))) # Weibull\u001b[0m\u001b[0;34m\u001b[0m\u001b[0;34m\u001b[0m\u001b[0m\n\u001b[1;32m      5\u001b[0m \u001b[0;31m# fitfunc = lambda p, x: p[0]/(1+p[1]*np.exp(-p[2]*x)) # logistic\u001b[0m\u001b[0;34m\u001b[0m\u001b[0;34m\u001b[0m\u001b[0m\n\u001b[0;32m----> 6\u001b[0;31m \u001b[0mfitfunc\u001b[0m \u001b[0;34m=\u001b[0m \u001b[0;32mlambda\u001b[0m \u001b[0mp\u001b[0m\u001b[0;34m,\u001b[0m \u001b[0mx\u001b[0m\u001b[0;34m:\u001b[0m \u001b[0mnn_fit\u001b[0m\u001b[0;34m(\u001b[0m\u001b[0mn\u001b[0m\u001b[0;34m,\u001b[0m \u001b[0mp\u001b[0m\u001b[0;34m,\u001b[0m \u001b[0mx\u001b[0m\u001b[0;34m)\u001b[0m\u001b[0;34m\u001b[0m\u001b[0m\n\u001b[0m\u001b[1;32m      7\u001b[0m \u001b[0merrfunc\u001b[0m \u001b[0;34m=\u001b[0m \u001b[0;32mlambda\u001b[0m \u001b[0mp\u001b[0m\u001b[0;34m,\u001b[0m \u001b[0mx\u001b[0m\u001b[0;34m,\u001b[0m \u001b[0my\u001b[0m\u001b[0;34m:\u001b[0m \u001b[0;34m(\u001b[0m\u001b[0mfitfunc\u001b[0m\u001b[0;34m(\u001b[0m\u001b[0mp\u001b[0m\u001b[0;34m,\u001b[0m \u001b[0mx\u001b[0m\u001b[0;34m)\u001b[0m \u001b[0;34m-\u001b[0m \u001b[0my\u001b[0m\u001b[0;34m)\u001b[0m\u001b[0;34m**\u001b[0m\u001b[0;36m2\u001b[0m \u001b[0;31m# Distance to the target function\u001b[0m\u001b[0;34m\u001b[0m\u001b[0m\n",
      "\u001b[0;32m<ipython-input-197-0e7d2a046e7c>\u001b[0m in \u001b[0;36mnn_fit\u001b[0;34m(n, params, x)\u001b[0m\n\u001b[1;32m      6\u001b[0m     \u001b[0;32mfor\u001b[0m \u001b[0mval\u001b[0m \u001b[0;32min\u001b[0m \u001b[0mx\u001b[0m\u001b[0;34m:\u001b[0m\u001b[0;34m\u001b[0m\u001b[0m\n\u001b[1;32m      7\u001b[0m \u001b[0;31m#         print(val)\u001b[0m\u001b[0;34m\u001b[0m\u001b[0;34m\u001b[0m\u001b[0m\n\u001b[0;32m----> 8\u001b[0;31m         \u001b[0mres\u001b[0m\u001b[0;34m.\u001b[0m\u001b[0mappend\u001b[0m\u001b[0;34m(\u001b[0m\u001b[0mn\u001b[0m\u001b[0;34m.\u001b[0m\u001b[0mactivate\u001b[0m\u001b[0;34m(\u001b[0m\u001b[0;34m[\u001b[0m\u001b[0mval\u001b[0m\u001b[0;34m]\u001b[0m\u001b[0;34m)\u001b[0m\u001b[0;34m)\u001b[0m\u001b[0;34m\u001b[0m\u001b[0m\n\u001b[0m\u001b[1;32m      9\u001b[0m     \u001b[0;32mreturn\u001b[0m \u001b[0mnp\u001b[0m\u001b[0;34m.\u001b[0m\u001b[0mhstack\u001b[0m\u001b[0;34m(\u001b[0m\u001b[0mres\u001b[0m\u001b[0;34m)\u001b[0m\u001b[0;34m\u001b[0m\u001b[0m\n\u001b[1;32m     10\u001b[0m \u001b[0;32mdef\u001b[0m \u001b[0mnn_err\u001b[0m\u001b[0;34m(\u001b[0m\u001b[0mparams\u001b[0m\u001b[0;34m)\u001b[0m\u001b[0;34m:\u001b[0m\u001b[0;34m\u001b[0m\u001b[0m\n",
      "\u001b[0;32m/home/kamilsa/miniconda3/envs/venv2/lib/python2.7/site-packages/pybrain/structure/networks/recurrent.pyc\u001b[0m in \u001b[0;36mactivate\u001b[0;34m(self, inpt)\u001b[0m\n\u001b[1;32m     48\u001b[0m         \u001b[0;34m\"\"\"Do one transformation of an input and return the result.\"\"\"\u001b[0m\u001b[0;34m\u001b[0m\u001b[0m\n\u001b[1;32m     49\u001b[0m         \u001b[0mself\u001b[0m\u001b[0;34m.\u001b[0m\u001b[0minputbuffer\u001b[0m\u001b[0;34m[\u001b[0m\u001b[0mself\u001b[0m\u001b[0;34m.\u001b[0m\u001b[0moffset\u001b[0m\u001b[0;34m]\u001b[0m \u001b[0;34m=\u001b[0m \u001b[0minpt\u001b[0m\u001b[0;34m\u001b[0m\u001b[0m\n\u001b[0;32m---> 50\u001b[0;31m         \u001b[0mself\u001b[0m\u001b[0;34m.\u001b[0m\u001b[0mforward\u001b[0m\u001b[0;34m(\u001b[0m\u001b[0;34m)\u001b[0m\u001b[0;34m\u001b[0m\u001b[0m\n\u001b[0m\u001b[1;32m     51\u001b[0m         \u001b[0;32mreturn\u001b[0m \u001b[0mself\u001b[0m\u001b[0;34m.\u001b[0m\u001b[0moutputbuffer\u001b[0m\u001b[0;34m[\u001b[0m\u001b[0mself\u001b[0m\u001b[0;34m.\u001b[0m\u001b[0moffset\u001b[0m \u001b[0;34m-\u001b[0m \u001b[0;36m1\u001b[0m\u001b[0;34m]\u001b[0m\u001b[0;34m.\u001b[0m\u001b[0mcopy\u001b[0m\u001b[0;34m(\u001b[0m\u001b[0;34m)\u001b[0m\u001b[0;34m\u001b[0m\u001b[0m\n\u001b[1;32m     52\u001b[0m \u001b[0;34m\u001b[0m\u001b[0m\n",
      "\u001b[0;32m/home/kamilsa/miniconda3/envs/venv2/lib/python2.7/site-packages/pybrain/structure/networks/recurrent.pyc\u001b[0m in \u001b[0;36mforward\u001b[0;34m(self)\u001b[0m\n\u001b[1;32m     62\u001b[0m         \u001b[0;32mif\u001b[0m \u001b[0;32mnot\u001b[0m \u001b[0;34m(\u001b[0m\u001b[0mself\u001b[0m\u001b[0;34m.\u001b[0m\u001b[0moffset\u001b[0m \u001b[0;34m+\u001b[0m \u001b[0;36m1\u001b[0m \u001b[0;34m<\u001b[0m \u001b[0mself\u001b[0m\u001b[0;34m.\u001b[0m\u001b[0minputbuffer\u001b[0m\u001b[0;34m.\u001b[0m\u001b[0mshape\u001b[0m\u001b[0;34m[\u001b[0m\u001b[0;36m0\u001b[0m\u001b[0;34m]\u001b[0m\u001b[0;34m)\u001b[0m\u001b[0;34m:\u001b[0m\u001b[0;34m\u001b[0m\u001b[0m\n\u001b[1;32m     63\u001b[0m             \u001b[0mself\u001b[0m\u001b[0;34m.\u001b[0m\u001b[0m_growBuffers\u001b[0m\u001b[0;34m(\u001b[0m\u001b[0;34m)\u001b[0m\u001b[0;34m\u001b[0m\u001b[0m\n\u001b[0;32m---> 64\u001b[0;31m         \u001b[0msuper\u001b[0m\u001b[0;34m(\u001b[0m\u001b[0mRecurrentNetworkComponent\u001b[0m\u001b[0;34m,\u001b[0m \u001b[0mself\u001b[0m\u001b[0;34m)\u001b[0m\u001b[0;34m.\u001b[0m\u001b[0mforward\u001b[0m\u001b[0;34m(\u001b[0m\u001b[0;34m)\u001b[0m\u001b[0;34m\u001b[0m\u001b[0m\n\u001b[0m\u001b[1;32m     65\u001b[0m         \u001b[0mself\u001b[0m\u001b[0;34m.\u001b[0m\u001b[0moffset\u001b[0m \u001b[0;34m+=\u001b[0m \u001b[0;36m1\u001b[0m\u001b[0;34m\u001b[0m\u001b[0m\n\u001b[1;32m     66\u001b[0m         \u001b[0mself\u001b[0m\u001b[0;34m.\u001b[0m\u001b[0mmaxoffset\u001b[0m \u001b[0;34m=\u001b[0m \u001b[0mmax\u001b[0m\u001b[0;34m(\u001b[0m\u001b[0mself\u001b[0m\u001b[0;34m.\u001b[0m\u001b[0moffset\u001b[0m\u001b[0;34m,\u001b[0m \u001b[0mself\u001b[0m\u001b[0;34m.\u001b[0m\u001b[0mmaxoffset\u001b[0m\u001b[0;34m)\u001b[0m\u001b[0;34m\u001b[0m\u001b[0m\n",
      "\u001b[0;32m/home/kamilsa/miniconda3/envs/venv2/lib/python2.7/site-packages/pybrain/structure/modules/module.pyc\u001b[0m in \u001b[0;36mforward\u001b[0;34m(self)\u001b[0m\n\u001b[1;32m     71\u001b[0m         \u001b[0;34m\"\"\"Produce the output from the input.\"\"\"\u001b[0m\u001b[0;34m\u001b[0m\u001b[0m\n\u001b[1;32m     72\u001b[0m         self._forwardImplementation(self.inputbuffer[self.offset],\n\u001b[0;32m---> 73\u001b[0;31m                                     self.outputbuffer[self.offset])\n\u001b[0m\u001b[1;32m     74\u001b[0m \u001b[0;34m\u001b[0m\u001b[0m\n\u001b[1;32m     75\u001b[0m     \u001b[0;32mdef\u001b[0m \u001b[0mbackward\u001b[0m\u001b[0;34m(\u001b[0m\u001b[0mself\u001b[0m\u001b[0;34m)\u001b[0m\u001b[0;34m:\u001b[0m\u001b[0;34m\u001b[0m\u001b[0m\n",
      "\u001b[0;32m/home/kamilsa/miniconda3/envs/venv2/lib/python2.7/site-packages/pybrain/structure/networks/recurrent.pyc\u001b[0m in \u001b[0;36m_forwardImplementation\u001b[0;34m(self, inbuf, outbuf)\u001b[0m\n\u001b[1;32m     85\u001b[0m         \u001b[0;32mif\u001b[0m \u001b[0moffset\u001b[0m \u001b[0;34m>\u001b[0m \u001b[0;36m0\u001b[0m\u001b[0;34m:\u001b[0m\u001b[0;34m\u001b[0m\u001b[0m\n\u001b[1;32m     86\u001b[0m             \u001b[0;32mfor\u001b[0m \u001b[0mc\u001b[0m \u001b[0;32min\u001b[0m \u001b[0mself\u001b[0m\u001b[0;34m.\u001b[0m\u001b[0mrecurrentConns\u001b[0m\u001b[0;34m:\u001b[0m\u001b[0;34m\u001b[0m\u001b[0m\n\u001b[0;32m---> 87\u001b[0;31m                 \u001b[0mc\u001b[0m\u001b[0;34m.\u001b[0m\u001b[0mforward\u001b[0m\u001b[0;34m(\u001b[0m\u001b[0moffset\u001b[0m \u001b[0;34m-\u001b[0m \u001b[0;36m1\u001b[0m\u001b[0;34m,\u001b[0m \u001b[0moffset\u001b[0m\u001b[0;34m)\u001b[0m\u001b[0;34m\u001b[0m\u001b[0m\n\u001b[0m\u001b[1;32m     88\u001b[0m \u001b[0;34m\u001b[0m\u001b[0m\n\u001b[1;32m     89\u001b[0m         \u001b[0;32mfor\u001b[0m \u001b[0mm\u001b[0m \u001b[0;32min\u001b[0m \u001b[0mself\u001b[0m\u001b[0;34m.\u001b[0m\u001b[0mmodulesSorted\u001b[0m\u001b[0;34m:\u001b[0m\u001b[0;34m\u001b[0m\u001b[0m\n",
      "\u001b[0;32m/home/kamilsa/miniconda3/envs/venv2/lib/python2.7/site-packages/pybrain/structure/connections/connection.pyc\u001b[0m in \u001b[0;36mforward\u001b[0;34m(self, inmodOffset, outmodOffset)\u001b[0m\n\u001b[1;32m     74\u001b[0m         outmodOffset as an offset for the outmodules offset.\"\"\"\n\u001b[1;32m     75\u001b[0m         self._forwardImplementation(\n\u001b[0;32m---> 76\u001b[0;31m             \u001b[0mself\u001b[0m\u001b[0;34m.\u001b[0m\u001b[0minmod\u001b[0m\u001b[0;34m.\u001b[0m\u001b[0moutputbuffer\u001b[0m\u001b[0;34m[\u001b[0m\u001b[0minmodOffset\u001b[0m\u001b[0;34m,\u001b[0m \u001b[0mself\u001b[0m\u001b[0;34m.\u001b[0m\u001b[0minSliceFrom\u001b[0m\u001b[0;34m:\u001b[0m\u001b[0mself\u001b[0m\u001b[0;34m.\u001b[0m\u001b[0minSliceTo\u001b[0m\u001b[0;34m]\u001b[0m\u001b[0;34m,\u001b[0m\u001b[0;34m\u001b[0m\u001b[0m\n\u001b[0m\u001b[1;32m     77\u001b[0m             self.outmod.inputbuffer[outmodOffset, self.outSliceFrom:self.outSliceTo])\n\u001b[1;32m     78\u001b[0m \u001b[0;34m\u001b[0m\u001b[0m\n",
      "\u001b[0;31mKeyboardInterrupt\u001b[0m: "
     ]
    }
   ],
   "source": [
    "\n",
    "# p0 = [1, -random.uniform(0,0.01), random.uniform(0,0.01)] # Initial guess for the parameters\n",
    "# p0 = (np.random.rand(len(n.params))-0.5)*0.001\n",
    "p0 = n.params\n",
    "# points_to_learn = len(X_train)\n",
    "print(len(p0), len(n.params))\n",
    "p1, success = optimize.leastsq(errfunc, p0[:], args=(X_train, y_train))\n",
    "# p1 = [1.0, 0.002]\n",
    "# noized_tizen = noize_bags(tizen,std = 1000)\n",
    "# p1, success = optimize.leastsq(errfunc, p0[:], args=(noized_tizen.x.values, noized_tizen.y.values))\n",
    "# time = np.linspace(Tx.min(), Tx.max(), 100)\n",
    "time = X\n",
    "y_pred = fitfunc(p1, time)"
   ]
  },
  {
   "cell_type": "code",
   "execution_count": null,
   "metadata": {
    "collapsed": false,
    "deletable": true,
    "editable": true
   },
   "outputs": [],
   "source": []
  },
  {
   "cell_type": "code",
   "execution_count": 289,
   "metadata": {
    "collapsed": false,
    "deletable": true,
    "editable": true
   },
   "outputs": [
    {
     "name": "stderr",
     "output_type": "stream",
     "text": [
      "/home/kamilsa/miniconda3/envs/venv2/lib/python2.7/site-packages/ipykernel/__main__.py:19: OptimizeWarning: Unknown solver options: xtol\n"
     ]
    }
   ],
   "source": [
    "n = RecurrentNetwork()\n",
    "n.addInputModule(LinearLayer(1, name='in'))\n",
    "n.addModule(LSTMLayer(2, name='hidden1'))\n",
    "# n.addModule(SigmoidLayer(3, name='hidden2'))\n",
    "n.addOutputModule(LinearLayer(1, name='out'))\n",
    "# n.addModule(BiasUnit(name='bias1'))\n",
    "# n.addModule(BiasUnit(name='bias2'))\n",
    "n.addModule(BiasUnit(name='bias3'))\n",
    "n.addConnection(FullConnection(n['in'], n['hidden1'], name='c1'))\n",
    "n.addConnection(FullConnection(n['hidden1'], n['out'], name='c2'))\n",
    "# n.addConnection(FullConnection(n['hidden2'], n['out'], name='c3'))\n",
    "# n.addConnection(FullConnection(n['bias1'], n['hidden1'], name='c4'))\n",
    "# n.addConnection(FullConnection(n['bias2'], n['hidden2'], name='c5'))\n",
    "n.addConnection(FullConnection(n['bias3'], n['out'], name='c6'))\n",
    "# n.addRecurrentConnection(FullConnection(n['hidden1'], n['hidden1'], name='c7'))\n",
    "n.sortModules()\n",
    "d_gen\n",
    "# params = (np.random.rand(len(n.params))-0.5)*0.1\n",
    "res = optimize.minimize(nn_err, params, method='L-BFGS-B', \\\n",
    "                        options={'xtol': 1e-4, 'disp': True, 'maxiter': 2000})"
   ]
  },
  {
   "cell_type": "code",
   "execution_count": 290,
   "metadata": {
    "collapsed": false,
    "deletable": true,
    "editable": true
   },
   "outputs": [],
   "source": [
    "n.reset()\n",
    "y_pred = fitfunc(res.x, X)"
   ]
  },
  {
   "cell_type": "code",
   "execution_count": 291,
   "metadata": {
    "collapsed": false,
    "deletable": true,
    "editable": true
   },
   "outputs": [
    {
     "data": {
      "image/png": "[encoded data removed]",
      "text/plain": [
       "<matplotlib.figure.Figure at 0x7f3bdffb84d0>"
      ]
     },
     "metadata": {},
     "output_type": "display_data"
    }
   ],
   "source": [
    "plt.plot(Y, \"b-\", y_pred, \"r-\") # Plot of the data and the fit\n",
    "plt.title(\"Cumulative error curve\")\n",
    "plt.xlabel(\"time\")\n",
    "plt.ylabel(\"error rate\")\n",
    "plt.plot([points_to_learn, points_to_learn], [0, 1], 'k-')\n",
    "plt.legend(('true', 'fit'), loc=2)\n",
    "plt.show()"
   ]
  },
  {
   "cell_type": "code",
   "execution_count": 266,
   "metadata": {
    "collapsed": false,
    "deletable": true,
    "editable": true
   },
   "outputs": [
    {
     "data": {
      "text/plain": [
       "(0.0096890626887579795, 0.018235904366913285, 4.5058908816475327)"
      ]
     },
     "execution_count": 266,
     "metadata": {},
     "output_type": "execute_result"
    }
   ],
   "source": [
    "mean_absolute_error(y_train, y_pred[:points_to_learn]), \\\n",
    "        mean_absolute_error(y_test, y_pred[points_to_learn:]), \\\n",
    "        AcFP(y_test[-1], y_pred[-1])"
   ]
  },
  {
   "cell_type": "code",
   "execution_count": null,
   "metadata": {
    "collapsed": true,
    "deletable": true,
    "editable": true
   },
   "outputs": [],
   "source": []
  }
 ],
 "metadata": {
  "kernelspec": {
   "display_name": "Python 2",
   "language": "python",
   "name": "python2"
  },
  "language_info": {
   "codemirror_mode": {
    "name": "ipython",
    "version": 2
   },
   "file_extension": ".py",
   "mimetype": "text/x-python",
   "name": "python",
   "nbconvert_exporter": "python",
   "pygments_lexer": "ipython2",
   "version": "2.7.13"
  }
 },
 "nbformat": 4,
 "nbformat_minor": 2
}
